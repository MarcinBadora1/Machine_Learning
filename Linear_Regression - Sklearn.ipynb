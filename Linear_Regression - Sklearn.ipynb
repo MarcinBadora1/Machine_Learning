{
  "nbformat": 4,
  "nbformat_minor": 0,
  "metadata": {
    "kernelspec": {
      "display_name": "Python 3",
      "language": "python",
      "name": "python3"
    },
    "language_info": {
      "codemirror_mode": {
        "name": "ipython",
        "version": 3
      },
      "file_extension": ".py",
      "mimetype": "text/x-python",
      "name": "python",
      "nbconvert_exporter": "python",
      "pygments_lexer": "ipython3",
      "version": "3.7.6"
    },
    "colab": {
      "name": "Copy of 22222- Empty.ipynb",
      "provenance": [],
      "collapsed_sections": [],
      "include_colab_link": true
    }
  },
  "cells": [
    {
      "cell_type": "markdown",
      "metadata": {
        "id": "view-in-github",
        "colab_type": "text"
      },
      "source": [
        "<a href=\"https://colab.research.google.com/github/MarcinBadora1/Machine_Learning/blob/main/Linear_Regression%20-%20Sklearn.ipynb\" target=\"_parent\"><img src=\"https://colab.research.google.com/assets/colab-badge.svg\" alt=\"Open In Colab\"/></a>"
      ]
    },
    {
      "cell_type": "markdown",
      "metadata": {
        "id": "M75UNrRp0b4r"
      },
      "source": [
        "# Linear Regression in Sci-Kit Learn - Introduction\n",
        "\n",
        "This dataset concerns housing values in suburbs of Boston. The original dataset was taken from the StatLib library which is maintained at Carnegie Mellon University, here it is downloaded from [UCI Machine Learning Repository](https://archive.ics.uci.edu/ml/machine-learning-databases/housing/).\n",
        "\n",
        "Your goal is to create and train a model that can estimate the average housing price."
      ]
    },
    {
      "cell_type": "markdown",
      "metadata": {
        "id": "cs3I9MzY0b4z"
      },
      "source": [
        "### Dataset description (columns)\n",
        "\n",
        "     1. CRIM     per capita crime rate by town\n",
        "     2. ZN       proportion of residential land zoned for lots over \n",
        "                 25,000 sq.ft.\n",
        "     3. INDUS    proportion of non-retail business acres per town\n",
        "     4. CHAS     Charles River dummy variable (= 1 if tract bounds \n",
        "                 river; 0 otherwise)\n",
        "     5. NOX      nitric oxides concentration (parts per 10 million)\n",
        "     6. RM       average number of rooms per dwelling\n",
        "     7. AGE      proportion of owner-occupied units built prior to 1940\n",
        "     8. DIS      weighted distances to five Boston employment centres\n",
        "     9. RAD      index of accessibility to radial highways\n",
        "    10. TAX      full-value property-tax rate per 10,000 USD\n",
        "    11. PTRATIO  pupil-teacher ratio by town\n",
        "    12. B        1000(Bk - 0.63)^2 where Bk is the proportion of blacks \n",
        "                 by town\n",
        "    13. LSTAT    % lower status of the population\n",
        "    14. MEDV     Median value of owner-occupied homes in 1000's of dollars\n",
        "    "
      ]
    },
    {
      "cell_type": "code",
      "metadata": {
        "id": "7BX_6YbI0b41"
      },
      "source": [
        "import pandas as pd\n",
        "import numpy as np"
      ],
      "execution_count": null,
      "outputs": []
    },
    {
      "cell_type": "markdown",
      "metadata": {
        "id": "5BFw5DMZ0b5K"
      },
      "source": [
        "Load and display data."
      ]
    },
    {
      "cell_type": "code",
      "metadata": {
        "id": "wTKbil5y0b5N",
        "colab": {
          "base_uri": "https://localhost:8080/",
          "height": 237
        },
        "outputId": "6310e177-065c-4f48-e34f-04374086caaf"
      },
      "source": [
        "# Uncomment this if you are using Google Colab\n",
        "!wget https://raw.githubusercontent.com/PrzemekSekula/DeepLearningClasses1/master/LinearRegressionSKLearn/housing.csv"
      ],
      "execution_count": null,
      "outputs": [
        {
          "output_type": "stream",
          "text": [
            "--2020-10-28 06:08:18--  https://raw.githubusercontent.com/PrzemekSekula/DeepLearningClasses1/master/LinearRegressionSKLearn/housing.csv\n",
            "Resolving raw.githubusercontent.com (raw.githubusercontent.com)... 151.101.0.133, 151.101.64.133, 151.101.128.133, ...\n",
            "Connecting to raw.githubusercontent.com (raw.githubusercontent.com)|151.101.0.133|:443... connected.\n",
            "HTTP request sent, awaiting response... 200 OK\n",
            "Length: 38448 (38K) [text/plain]\n",
            "Saving to: ‘housing.csv.2’\n",
            "\n",
            "housing.csv.2       100%[===================>]  37.55K  --.-KB/s    in 0.005s  \n",
            "\n",
            "2020-10-28 06:08:18 (7.87 MB/s) - ‘housing.csv.2’ saved [38448/38448]\n",
            "\n"
          ],
          "name": "stdout"
        }
      ]
    },
    {
      "cell_type": "code",
      "metadata": {
        "id": "XXyP86MX0b5Z",
        "colab": {
          "base_uri": "https://localhost:8080/",
          "height": 226
        },
        "outputId": "4817784b-29c7-4204-b22c-2cc3ce7d316f"
      },
      "source": [
        "df = pd.read_csv('housing.csv')\n",
        "df.head()"
      ],
      "execution_count": null,
      "outputs": [
        {
          "output_type": "execute_result",
          "data": {
            "text/html": [
              "<div>\n",
              "<style scoped>\n",
              "    .dataframe tbody tr th:only-of-type {\n",
              "        vertical-align: middle;\n",
              "    }\n",
              "\n",
              "    .dataframe tbody tr th {\n",
              "        vertical-align: top;\n",
              "    }\n",
              "\n",
              "    .dataframe thead th {\n",
              "        text-align: right;\n",
              "    }\n",
              "</style>\n",
              "<table border=\"1\" class=\"dataframe\">\n",
              "  <thead>\n",
              "    <tr style=\"text-align: right;\">\n",
              "      <th></th>\n",
              "      <th>CRIM</th>\n",
              "      <th>ZN</th>\n",
              "      <th>INDUS</th>\n",
              "      <th>CHAS</th>\n",
              "      <th>NOX</th>\n",
              "      <th>RM</th>\n",
              "      <th>AGE</th>\n",
              "      <th>DIS</th>\n",
              "      <th>RAD</th>\n",
              "      <th>TAX</th>\n",
              "      <th>PTRATIO</th>\n",
              "      <th>B</th>\n",
              "      <th>LSTAT</th>\n",
              "      <th>MEDV</th>\n",
              "    </tr>\n",
              "  </thead>\n",
              "  <tbody>\n",
              "    <tr>\n",
              "      <th>0</th>\n",
              "      <td>0.00632</td>\n",
              "      <td>18.0</td>\n",
              "      <td>2.31</td>\n",
              "      <td>0</td>\n",
              "      <td>0.538</td>\n",
              "      <td>6.575</td>\n",
              "      <td>65.2</td>\n",
              "      <td>4.0900</td>\n",
              "      <td>1</td>\n",
              "      <td>296.0</td>\n",
              "      <td>15.3</td>\n",
              "      <td>396.90</td>\n",
              "      <td>4.98</td>\n",
              "      <td>24.0</td>\n",
              "    </tr>\n",
              "    <tr>\n",
              "      <th>1</th>\n",
              "      <td>0.02731</td>\n",
              "      <td>0.0</td>\n",
              "      <td>7.07</td>\n",
              "      <td>0</td>\n",
              "      <td>0.469</td>\n",
              "      <td>6.421</td>\n",
              "      <td>78.9</td>\n",
              "      <td>4.9671</td>\n",
              "      <td>2</td>\n",
              "      <td>242.0</td>\n",
              "      <td>17.8</td>\n",
              "      <td>396.90</td>\n",
              "      <td>9.14</td>\n",
              "      <td>21.6</td>\n",
              "    </tr>\n",
              "    <tr>\n",
              "      <th>2</th>\n",
              "      <td>0.02729</td>\n",
              "      <td>0.0</td>\n",
              "      <td>7.07</td>\n",
              "      <td>0</td>\n",
              "      <td>0.469</td>\n",
              "      <td>7.185</td>\n",
              "      <td>61.1</td>\n",
              "      <td>4.9671</td>\n",
              "      <td>2</td>\n",
              "      <td>242.0</td>\n",
              "      <td>17.8</td>\n",
              "      <td>392.83</td>\n",
              "      <td>4.03</td>\n",
              "      <td>34.7</td>\n",
              "    </tr>\n",
              "    <tr>\n",
              "      <th>3</th>\n",
              "      <td>0.03237</td>\n",
              "      <td>0.0</td>\n",
              "      <td>2.18</td>\n",
              "      <td>0</td>\n",
              "      <td>0.458</td>\n",
              "      <td>6.998</td>\n",
              "      <td>45.8</td>\n",
              "      <td>6.0622</td>\n",
              "      <td>3</td>\n",
              "      <td>222.0</td>\n",
              "      <td>18.7</td>\n",
              "      <td>394.63</td>\n",
              "      <td>2.94</td>\n",
              "      <td>33.4</td>\n",
              "    </tr>\n",
              "    <tr>\n",
              "      <th>4</th>\n",
              "      <td>0.06905</td>\n",
              "      <td>0.0</td>\n",
              "      <td>2.18</td>\n",
              "      <td>0</td>\n",
              "      <td>0.458</td>\n",
              "      <td>7.147</td>\n",
              "      <td>54.2</td>\n",
              "      <td>6.0622</td>\n",
              "      <td>3</td>\n",
              "      <td>222.0</td>\n",
              "      <td>18.7</td>\n",
              "      <td>396.90</td>\n",
              "      <td>5.33</td>\n",
              "      <td>36.2</td>\n",
              "    </tr>\n",
              "  </tbody>\n",
              "</table>\n",
              "</div>"
            ],
            "text/plain": [
              "      CRIM    ZN  INDUS  CHAS    NOX  ...    TAX  PTRATIO       B  LSTAT  MEDV\n",
              "0  0.00632  18.0   2.31     0  0.538  ...  296.0     15.3  396.90   4.98  24.0\n",
              "1  0.02731   0.0   7.07     0  0.469  ...  242.0     17.8  396.90   9.14  21.6\n",
              "2  0.02729   0.0   7.07     0  0.469  ...  242.0     17.8  392.83   4.03  34.7\n",
              "3  0.03237   0.0   2.18     0  0.458  ...  222.0     18.7  394.63   2.94  33.4\n",
              "4  0.06905   0.0   2.18     0  0.458  ...  222.0     18.7  396.90   5.33  36.2\n",
              "\n",
              "[5 rows x 14 columns]"
            ]
          },
          "metadata": {
            "tags": []
          },
          "execution_count": 75
        }
      ]
    },
    {
      "cell_type": "markdown",
      "metadata": {
        "id": "PRfMqZA-0b5n"
      },
      "source": [
        "### Task 1\n",
        "Select X (columns `['CRIM', 'TAX', 'RM']`) and y (column `MEDV`)"
      ]
    },
    {
      "cell_type": "code",
      "metadata": {
        "id": "9XHRFS2O0b5o",
        "colab": {
          "base_uri": "https://localhost:8080/",
          "height": 206
        },
        "outputId": "b786ee6f-9c31-4933-ce2f-fa31919ca115"
      },
      "source": [
        "x = df[['CRIM', 'TAX', 'RM']]\n",
        "x.head()"
      ],
      "execution_count": null,
      "outputs": [
        {
          "output_type": "execute_result",
          "data": {
            "text/html": [
              "<div>\n",
              "<style scoped>\n",
              "    .dataframe tbody tr th:only-of-type {\n",
              "        vertical-align: middle;\n",
              "    }\n",
              "\n",
              "    .dataframe tbody tr th {\n",
              "        vertical-align: top;\n",
              "    }\n",
              "\n",
              "    .dataframe thead th {\n",
              "        text-align: right;\n",
              "    }\n",
              "</style>\n",
              "<table border=\"1\" class=\"dataframe\">\n",
              "  <thead>\n",
              "    <tr style=\"text-align: right;\">\n",
              "      <th></th>\n",
              "      <th>CRIM</th>\n",
              "      <th>TAX</th>\n",
              "      <th>RM</th>\n",
              "    </tr>\n",
              "  </thead>\n",
              "  <tbody>\n",
              "    <tr>\n",
              "      <th>0</th>\n",
              "      <td>0.00632</td>\n",
              "      <td>296.0</td>\n",
              "      <td>6.575</td>\n",
              "    </tr>\n",
              "    <tr>\n",
              "      <th>1</th>\n",
              "      <td>0.02731</td>\n",
              "      <td>242.0</td>\n",
              "      <td>6.421</td>\n",
              "    </tr>\n",
              "    <tr>\n",
              "      <th>2</th>\n",
              "      <td>0.02729</td>\n",
              "      <td>242.0</td>\n",
              "      <td>7.185</td>\n",
              "    </tr>\n",
              "    <tr>\n",
              "      <th>3</th>\n",
              "      <td>0.03237</td>\n",
              "      <td>222.0</td>\n",
              "      <td>6.998</td>\n",
              "    </tr>\n",
              "    <tr>\n",
              "      <th>4</th>\n",
              "      <td>0.06905</td>\n",
              "      <td>222.0</td>\n",
              "      <td>7.147</td>\n",
              "    </tr>\n",
              "  </tbody>\n",
              "</table>\n",
              "</div>"
            ],
            "text/plain": [
              "      CRIM    TAX     RM\n",
              "0  0.00632  296.0  6.575\n",
              "1  0.02731  242.0  6.421\n",
              "2  0.02729  242.0  7.185\n",
              "3  0.03237  222.0  6.998\n",
              "4  0.06905  222.0  7.147"
            ]
          },
          "metadata": {
            "tags": []
          },
          "execution_count": 79
        }
      ]
    },
    {
      "cell_type": "code",
      "metadata": {
        "id": "dwQ1YIJM0b52"
      },
      "source": [
        "y = df['MEDV']"
      ],
      "execution_count": null,
      "outputs": []
    },
    {
      "cell_type": "markdown",
      "metadata": {
        "id": "0iAW06A70b5-"
      },
      "source": [
        "### Task 2\n",
        "Split data into two subsets\n",
        "- train subset: 70% of data\n",
        "- test subset: 30% of data\n",
        "- set random_state to 1"
      ]
    },
    {
      "cell_type": "code",
      "metadata": {
        "id": "7_DLEJBj0b6H"
      },
      "source": [
        "from sklearn.model_selection import train_test_split\n",
        "  "
      ],
      "execution_count": null,
      "outputs": []
    },
    {
      "cell_type": "code",
      "metadata": {
        "id": "I_fU_8yT0b6N",
        "colab": {
          "base_uri": "https://localhost:8080/",
          "height": 90
        },
        "outputId": "a5aad46e-44a2-4e0c-e57d-f39eaf2dbe28"
      },
      "source": [
        "X_train, X_test, y_train, y_test = train_test_split(\n",
        "   x, y, test_size=0.3, random_state=1)\n",
        "print(\"X_train\",X_train.shape)\n",
        "print(\"X_test\",X_test.shape)\n",
        "print(\"Y_train\",y_train.shape)\n",
        "print(\"Y_test\",y_test.shape)"
      ],
      "execution_count": null,
      "outputs": [
        {
          "output_type": "stream",
          "text": [
            "X_train (354, 3)\n",
            "X_test (152, 3)\n",
            "Y_train (354,)\n",
            "Y_test (152,)\n"
          ],
          "name": "stdout"
        }
      ]
    },
    {
      "cell_type": "markdown",
      "metadata": {
        "id": "6X1eYdUI0b6X"
      },
      "source": [
        "### Task 3\n",
        "Create and train linear regression model."
      ]
    },
    {
      "cell_type": "code",
      "metadata": {
        "id": "tFSow3g20b6Y"
      },
      "source": [
        " from sklearn.linear_model import LinearRegression\n",
        "\n",
        "#reg = LinearRegression().fit(x, y)\n",
        "\n",
        "reg = LinearRegression().fit(X_train, y_train)\n",
        "#reg.score(X, y)\n"
      ],
      "execution_count": null,
      "outputs": []
    },
    {
      "cell_type": "markdown",
      "metadata": {
        "id": "_xwG3vh-0b6e"
      },
      "source": [
        "### Task 4\n",
        "Compute $R^2$ coefficient for train and test datasets. Use `model.score()` to do it.\n",
        "\n",
        "$$R^2=1-\\frac{\\Sigma{(y-\\hat{y})^2}}{\\Sigma{(y-\\overline{y})^2}}$$\n",
        "\n",
        "Where:\n",
        "- $y$ - real `y` values\n",
        "- $\\hat{y}$ - model predictions\n",
        "- $\\overline{y}$ - mean value of `y`"
      ]
    },
    {
      "cell_type": "code",
      "metadata": {
        "id": "r1THsCRj0b6g",
        "colab": {
          "base_uri": "https://localhost:8080/",
          "height": 35
        },
        "outputId": "5bd6667e-b983-4c43-96b5-1d17ecf1d03b"
      },
      "source": [
        "reg.score(X_train,y_train)\n",
        "\n",
        "reg.score(X_test,y_test)"
      ],
      "execution_count": null,
      "outputs": [
        {
          "output_type": "execute_result",
          "data": {
            "text/plain": [
              "0.6901893330926419"
            ]
          },
          "metadata": {
            "tags": []
          },
          "execution_count": 44
        }
      ]
    },
    {
      "cell_type": "markdown",
      "metadata": {
        "id": "imn-ZD960b6u"
      },
      "source": [
        "### MAPE - Mean Absolute Percentage Error\n",
        "\n",
        "$$MAPE = \\frac{1}{n} \\sum{ \\left\\lvert{\\frac{y-\\hat{y}}{y}}\\right\\rvert}$$\n",
        "\n",
        "Where:\n",
        "- $y$ - real `y` values\n",
        "- $\\hat{y}$ - model predictions\n",
        "- $n$ - number of samples"
      ]
    },
    {
      "cell_type": "code",
      "metadata": {
        "id": "tswBxrdL0b6v",
        "colab": {
          "base_uri": "https://localhost:8080/",
          "height": 53
        },
        "outputId": "6dd86fd6-a1b8-4bca-d916-7f8c573222d2"
      },
      "source": [
        "y_pred = reg.predict(X_train)\n",
        "mape_train = np.mean(np.abs((y_train-y_pred)/y_train))*100\n",
        "print(\"tain mape\", mape_train )\n",
        "\n",
        "print('tain mape  {:.3f}%'.format(mape_train))"
      ],
      "execution_count": null,
      "outputs": [
        {
          "output_type": "stream",
          "text": [
            "tain mape 21.552430568659016\n",
            "tain mape  21.552%\n"
          ],
          "name": "stdout"
        }
      ]
    },
    {
      "cell_type": "markdown",
      "metadata": {
        "id": "o8QWXjzS0b66"
      },
      "source": [
        "### Task 5\n",
        "Create a function mape, that returns  𝑀𝐴𝑃𝐸  value given  𝑋 ,  𝑦  and the model that is used to create  𝑦̂   estimates. Then use your function to compute  𝑀𝐴𝑃𝐸  for train and test datasets. "
      ]
    },
    {
      "cell_type": "code",
      "metadata": {
        "id": "w_B-QIJG0b66"
      },
      "source": [
        "def mape(model, X, y):\n",
        "  y_pred = model.predict(X)\n",
        "  return np.mean(np.abs((y-y_pred)/y))*100"
      ],
      "execution_count": null,
      "outputs": []
    },
    {
      "cell_type": "code",
      "metadata": {
        "id": "Lajm5Tel0b7F",
        "colab": {
          "base_uri": "https://localhost:8080/",
          "height": 53
        },
        "outputId": "eaff3a06-9094-44de-bc40-7dfbc48c20b7"
      },
      "source": [
        "print('train mape  {:.3f}%'.format(mape(reg,X_train,y_train)))\n",
        "print('train mape  {:.3f}%'.format(mape(reg,X_test,y_test)))\n"
      ],
      "execution_count": null,
      "outputs": [
        {
          "output_type": "stream",
          "text": [
            "train mape  21.552%\n",
            "train mape  20.784%\n"
          ],
          "name": "stdout"
        }
      ]
    },
    {
      "cell_type": "markdown",
      "metadata": {
        "id": "kvN-Hu310b7O"
      },
      "source": [
        "## Random forest regressor"
      ]
    },
    {
      "cell_type": "code",
      "metadata": {
        "id": "ZVeOnM7G0b7O",
        "colab": {
          "base_uri": "https://localhost:8080/",
          "height": 53
        },
        "outputId": "3e5d9f44-2c13-4ebc-cca7-deacf72069c2"
      },
      "source": [
        "from sklearn.ensemble import RandomForestRegressor\n",
        "model = RandomForestRegressor()\n",
        "model.fit(X_train,y_train)\n",
        "\n",
        "print('train mape  {:.3f}%'.format(mape(model,X_train,y_train)))\n",
        "#tesst\n",
        "print('train mape  {:.3f}%'.format(mape(model,X_test,y_test)))\n",
        "\n"
      ],
      "execution_count": null,
      "outputs": [
        {
          "output_type": "stream",
          "text": [
            "train mape  7.348%\n",
            "train mape  16.649%\n"
          ],
          "name": "stdout"
        }
      ]
    },
    {
      "cell_type": "markdown",
      "metadata": {
        "id": "d-I7ytzl0b7a"
      },
      "source": [
        "### Task 6\n",
        "Experiment with `min_samples_leaf` parameter to avoid overfitting."
      ]
    },
    {
      "cell_type": "code",
      "metadata": {
        "id": "vnFnB5pj0b7b",
        "colab": {
          "base_uri": "https://localhost:8080/",
          "height": 53
        },
        "outputId": "655dc6a8-2905-457c-f472-e82460698cdc"
      },
      "source": [
        "#model = RandomForestRegressor(min_samples_leaf=6)\n",
        "model = RandomForestRegressor(min_samples_leaf=14)\n",
        "\n",
        "model.fit(X_train,y_train)\n",
        "\n",
        "print('train mape  {:.3f}%'.format(mape(model,X_train,y_train)))\n",
        "print('teest mape  {:.3f}%'.format(mape(model,X_test,y_test)))"
      ],
      "execution_count": null,
      "outputs": [
        {
          "output_type": "stream",
          "text": [
            "train mape  16.901%\n",
            "teest mape  18.543%\n"
          ],
          "name": "stdout"
        }
      ]
    },
    {
      "cell_type": "markdown",
      "metadata": {
        "id": "2j4q1Ng90b7g"
      },
      "source": [
        "# Part 2"
      ]
    },
    {
      "cell_type": "markdown",
      "metadata": {
        "id": "92aaRNH40b7g"
      },
      "source": [
        "### Task 7\n",
        "Select all 13 features as $X$ and split dataset into two subsets (the same split ratio and random state)."
      ]
    },
    {
      "cell_type": "code",
      "metadata": {
        "id": "d8bZLRjB0b7h",
        "colab": {
          "base_uri": "https://localhost:8080/",
          "height": 90
        },
        "outputId": "89943a2f-e43b-46ec-aac3-ea03ad76c4b9"
      },
      "source": [
        "df = pd.read_csv('housing.csv')\n",
        "df.head()\n",
        "\n",
        "x = df[['CRIM', 'ZN', 'INDUS',\t'CHAS',\t'NOX', 'RM', 'AGE', 'DIS', 'RAD', 'TAX', 'PTRATIO', 'B', 'LSTAT']]\n",
        "y = df['MEDV']\n",
        "#print(x)\n",
        "#print(y)\n",
        "\n",
        "X_train, X_test, y_train, y_test = train_test_split(\n",
        "   x, y, test_size=0.3, random_state=1)\n",
        "print(\"X_train\",X_train.shape)\n",
        "print(\"X_test\",X_test.shape)\n",
        "print(\"Y_train\",y_train.shape)\n",
        "print(\"Y_test\",y_test.shape)\n",
        "\n",
        "\n"
      ],
      "execution_count": null,
      "outputs": [
        {
          "output_type": "stream",
          "text": [
            "X_train (354, 13)\n",
            "X_test (152, 13)\n",
            "Y_train (354,)\n",
            "Y_test (152,)\n"
          ],
          "name": "stdout"
        }
      ]
    },
    {
      "cell_type": "code",
      "metadata": {
        "id": "K8Iol2qG0b7u"
      },
      "source": [
        "## Enter your code here"
      ],
      "execution_count": null,
      "outputs": []
    },
    {
      "cell_type": "code",
      "metadata": {
        "id": "EwdlUMS80b71"
      },
      "source": [
        "# Enter your code here"
      ],
      "execution_count": null,
      "outputs": []
    },
    {
      "cell_type": "code",
      "metadata": {
        "id": "cl62mBFp0b8A"
      },
      "source": [
        "# Enter your code here"
      ],
      "execution_count": null,
      "outputs": []
    },
    {
      "cell_type": "markdown",
      "metadata": {
        "id": "M4of_m7V0b8M"
      },
      "source": [
        "### Task 8\n",
        "Train and test linear regression model. Compare the results with the previous ones."
      ]
    },
    {
      "cell_type": "code",
      "metadata": {
        "id": "l1jFfZkw0b8N",
        "colab": {
          "base_uri": "https://localhost:8080/",
          "height": 90
        },
        "outputId": "4a59893e-2691-41b8-8d41-28f1e7a5a695"
      },
      "source": [
        " from sklearn.linear_model import LinearRegression\n",
        "\n",
        "reg = LinearRegression().fit(X_train, y_train)\n",
        "\n",
        "print(reg.score(X_train,y_train))\n",
        "print(reg.score(X_test,y_test))\n",
        "\n",
        "print('train mape  {:.3f}%'.format(mape(reg,X_train,y_train)))\n",
        "print('test mape  {:.3f}%'.format(mape(reg,X_test,y_test)))\n",
        "\n"
      ],
      "execution_count": null,
      "outputs": [
        {
          "output_type": "stream",
          "text": [
            "0.7103879080674731\n",
            "0.7836295385076271\n",
            "train mape  16.715%\n",
            "test mape  16.208%\n"
          ],
          "name": "stdout"
        }
      ]
    },
    {
      "cell_type": "markdown",
      "metadata": {
        "id": "oSc0VVfQ0b8T"
      },
      "source": [
        "### Task 9\n",
        "Train and test Random Forest model (keep all parameters default). Does your model suffer from overfitting / underfitting?"
      ]
    },
    {
      "cell_type": "code",
      "metadata": {
        "id": "Q9HAGhXi0b8U",
        "colab": {
          "base_uri": "https://localhost:8080/",
          "height": 53
        },
        "outputId": "6546e954-fe27-4763-e426-e8d2502b9f57"
      },
      "source": [
        "model = RandomForestRegressor()\n",
        "\n",
        "model.fit(X_train,y_train)\n",
        "\n",
        "print('train mape  {:.3f}%'.format(mape(model,X_train,y_train)))\n",
        "print('test mape  {:.3f}%'.format(mape(model,X_test,y_test)))\n",
        "\n",
        "###overfit"
      ],
      "execution_count": null,
      "outputs": [
        {
          "output_type": "stream",
          "text": [
            "train mape  4.260%\n",
            "test mape  11.286%\n"
          ],
          "name": "stdout"
        }
      ]
    },
    {
      "cell_type": "markdown",
      "metadata": {
        "id": "jvGGM8rR0b8d"
      },
      "source": [
        "### Task 10\n",
        "Try to modify `min_samples_leaf` parameter to get the best model possible."
      ]
    },
    {
      "cell_type": "code",
      "metadata": {
        "id": "HlvxgPoN0b8d",
        "colab": {
          "base_uri": "https://localhost:8080/",
          "height": 53
        },
        "outputId": "9aef6aa6-5069-486b-9cf3-be004377d29e"
      },
      "source": [
        "model = RandomForestRegressor(min_samples_leaf=120)\n",
        "\n",
        "model.fit(X_train,y_train)\n",
        "\n",
        "print('train mape  {:.3f}%'.format(mape(model,X_train,y_train)))\n",
        "print('test mape  {:.3f}%'.format(mape(model,X_test,y_test)))"
      ],
      "execution_count": null,
      "outputs": [
        {
          "output_type": "stream",
          "text": [
            "train mape  35.976%\n",
            "test mape  35.366%\n"
          ],
          "name": "stdout"
        }
      ]
    },
    {
      "cell_type": "code",
      "metadata": {
        "id": "UnIQZwV60b8m"
      },
      "source": [
        ""
      ],
      "execution_count": null,
      "outputs": []
    }
  ]
}