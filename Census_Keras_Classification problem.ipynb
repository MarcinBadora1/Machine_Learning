{
  "nbformat": 4,
  "nbformat_minor": 0,
  "metadata": {
    "kernelspec": {
      "display_name": "Python 3",
      "language": "python",
      "name": "python3"
    },
    "language_info": {
      "codemirror_mode": {
        "name": "ipython",
        "version": 3
      },
      "file_extension": ".py",
      "mimetype": "text/x-python",
      "name": "python",
      "nbconvert_exporter": "python",
      "pygments_lexer": "ipython3",
      "version": "3.7.6"
    },
    "colab": {
      "name": "Kopia notatnika Kopia notatnika census_keras_empty.ipynb",
      "provenance": [],
      "include_colab_link": true
    },
    "accelerator": "TPU"
  },
  "cells": [
    {
      "cell_type": "markdown",
      "metadata": {
        "id": "view-in-github",
        "colab_type": "text"
      },
      "source": [
        "<a href=\"https://colab.research.google.com/github/MarcinBadora1/Machine_Learning/blob/main/Census_Keras_Classification%20problem.ipynb\" target=\"_parent\"><img src=\"https://colab.research.google.com/assets/colab-badge.svg\" alt=\"Open In Colab\"/></a>"
      ]
    },
    {
      "cell_type": "markdown",
      "metadata": {
        "id": "7ybU738spLIj"
      },
      "source": [
        "# Census Income Example\n",
        "This is a Keras example of classification problem. To simplify the data preparation part I used the Census problem from the Sci-Kit Learn class.\n",
        "\n",
        "The dataset comes from http://archive.ics.uci.edu/. \n",
        "\n",
        "Data extraction was done by Barry Becker from the 1994 Census database. A set of reasonably clean records was extracted using the following conditions: ((AAGE>16) && (AGI>100) && (AFNLWGT>1)&& (HRSWK>0)). The data was also preprocessed for the purpose of this example.\n",
        "\n",
        "Prediction task is to determine whether a person makes over 50K a year.\n",
        "\n",
        "\n",
        "### List of attributes:\n",
        "\n",
        "##### Features\n",
        "- age: continuous. \n",
        "- workclass: Private, Self-emp-not-inc, Self-emp-inc, Federal-gov, Local-gov, State-gov, Without-pay, Never-worked. \n",
        "- education: Bachelors, Some-college, 11th, HS-grad, Prof-school, Assoc-acdm, Assoc-voc, 9th, 7th-8th, 12th, Masters, 1st-4th, - 10th, Doctorate, 5th-6th, Preschool. \n",
        "- education-num: continuous. \n",
        "- marital-status: Married-civ-spouse, Divorced, Never-married, Separated, Widowed, Married-spouse-absent, Married-AF-spouse. \n",
        "- occupation: Tech-support, Craft-repair, Other-service, Sales, Exec-managerial, Prof-specialty, Handlers-cleaners, Machine-op-inspct, Adm-clerical, Farming-fishing, Transport-moving, Priv-house-serv, Protective-serv, Armed-Forces. \n",
        "- relationship: Wife, Own-child, Husband, Not-in-family, Other-relative, Unmarried. \n",
        "- race: White, Asian-Pac-Islander, Amer-Indian-Eskimo, Other, Black. \n",
        "- sex: Female, Male. \n",
        "- hours-per-week: continuous. \n",
        "- native-country: United-States, Cambodia, England, Puerto-Rico, Canada, Germany, Outlying-US(Guam-USVI-etc), India, Japan, Greece, South, China, Cuba, Iran, Honduras, Philippines, Italy, Poland, Jamaica, Vietnam, Mexico, Portugal, Ireland, France, Dominican-Republic, Laos, Ecuador, Taiwan, Haiti, Columbia, Hungary, Guatemala, Nicaragua, Scotland, Thailand, Yugoslavia, El-Salvador, Trinadad&Tobago, Peru, Hong, Holand-Netherlands.\n",
        "\n",
        "\n",
        "\n",
        "##### Labels\n",
        "- income - >50K, <=50K. "
      ]
    },
    {
      "cell_type": "markdown",
      "metadata": {
        "id": "CcEB4LOErOG0"
      },
      "source": [
        ""
      ]
    },
    {
      "cell_type": "markdown",
      "metadata": {
        "id": "Ei9MpSpfpLIn"
      },
      "source": [
        "# Install tensorflow\n",
        "If necessary uncomment one of the lines below"
      ]
    },
    {
      "cell_type": "code",
      "metadata": {
        "id": "PvfWV_7WpLIo"
      },
      "source": [
        "# For tensorflow with CPU support only\n",
        "#!pip install tensorflow\n",
        "# For GPU version of tensorflow\n",
        "#!pip install tensorflow-gpu"
      ],
      "execution_count": null,
      "outputs": []
    },
    {
      "cell_type": "markdown",
      "metadata": {
        "id": "Yb5wFJ1opLIq"
      },
      "source": [
        "# Imports"
      ]
    },
    {
      "cell_type": "code",
      "metadata": {
        "id": "1tOklY11pLIq"
      },
      "source": [
        "import pandas as pd\n",
        "import numpy as np\n",
        "import tensorflow as tf\n",
        "\n",
        "import matplotlib.pyplot as plt\n",
        "%matplotlib inline"
      ],
      "execution_count": null,
      "outputs": []
    },
    {
      "cell_type": "markdown",
      "metadata": {
        "id": "VSMpi5U0pLIq"
      },
      "source": [
        "### Load dataset"
      ]
    },
    {
      "cell_type": "code",
      "metadata": {
        "id": "JHAEO-sJpLIr"
      },
      "source": [
        "df = pd.read_csv(\"https://github.com/PrzemekSekula/DeepLearningClasses1/raw/master/data/census.csv\")\n",
        "\n"
      ],
      "execution_count": null,
      "outputs": []
    },
    {
      "cell_type": "markdown",
      "metadata": {
        "id": "EVrS6-C-pLIr"
      },
      "source": [
        "# Data preparation\n",
        "### Selecting columns\n",
        "Personaly I decided to delete the following columns:\n",
        "- education - we have education-num, this is enough\n",
        "- marital status - too many classes\n",
        "- relationship - I am not sure if it is useful, and there are many classes\n",
        "- race - I am not sure if it is useful\n",
        "- native-country - too many classes\n",
        "\n",
        "**I deleted many columns just to make the task easier to read. Students are encouraged to experiment with the columns and check if they can improve the results.**\n"
      ]
    },
    {
      "cell_type": "code",
      "metadata": {
        "id": "4LfsVXk6pLIs",
        "colab": {
          "base_uri": "https://localhost:8080/",
          "height": 206
        },
        "outputId": "a750940b-eb60-49cf-98e6-9a4a55ad51e5"
      },
      "source": [
        "df = df[['age', 'workclass', 'education-num', 'occupation', \n",
        "         'sex', 'hours-per-week', 'income']]\n",
        "\n",
        "df.head()"
      ],
      "execution_count": null,
      "outputs": [
        {
          "output_type": "execute_result",
          "data": {
            "text/html": [
              "<div>\n",
              "<style scoped>\n",
              "    .dataframe tbody tr th:only-of-type {\n",
              "        vertical-align: middle;\n",
              "    }\n",
              "\n",
              "    .dataframe tbody tr th {\n",
              "        vertical-align: top;\n",
              "    }\n",
              "\n",
              "    .dataframe thead th {\n",
              "        text-align: right;\n",
              "    }\n",
              "</style>\n",
              "<table border=\"1\" class=\"dataframe\">\n",
              "  <thead>\n",
              "    <tr style=\"text-align: right;\">\n",
              "      <th></th>\n",
              "      <th>age</th>\n",
              "      <th>workclass</th>\n",
              "      <th>education-num</th>\n",
              "      <th>occupation</th>\n",
              "      <th>sex</th>\n",
              "      <th>hours-per-week</th>\n",
              "      <th>income</th>\n",
              "    </tr>\n",
              "  </thead>\n",
              "  <tbody>\n",
              "    <tr>\n",
              "      <th>0</th>\n",
              "      <td>39</td>\n",
              "      <td>State-gov</td>\n",
              "      <td>13</td>\n",
              "      <td>Adm-clerical</td>\n",
              "      <td>Male</td>\n",
              "      <td>40</td>\n",
              "      <td>&lt;=50K</td>\n",
              "    </tr>\n",
              "    <tr>\n",
              "      <th>1</th>\n",
              "      <td>50</td>\n",
              "      <td>Self-emp-not-inc</td>\n",
              "      <td>13</td>\n",
              "      <td>Exec-managerial</td>\n",
              "      <td>Male</td>\n",
              "      <td>13</td>\n",
              "      <td>&lt;=50K</td>\n",
              "    </tr>\n",
              "    <tr>\n",
              "      <th>2</th>\n",
              "      <td>38</td>\n",
              "      <td>Private</td>\n",
              "      <td>9</td>\n",
              "      <td>Handlers-cleaners</td>\n",
              "      <td>Male</td>\n",
              "      <td>40</td>\n",
              "      <td>&lt;=50K</td>\n",
              "    </tr>\n",
              "    <tr>\n",
              "      <th>3</th>\n",
              "      <td>53</td>\n",
              "      <td>Private</td>\n",
              "      <td>7</td>\n",
              "      <td>Handlers-cleaners</td>\n",
              "      <td>Male</td>\n",
              "      <td>40</td>\n",
              "      <td>&lt;=50K</td>\n",
              "    </tr>\n",
              "    <tr>\n",
              "      <th>4</th>\n",
              "      <td>28</td>\n",
              "      <td>Private</td>\n",
              "      <td>13</td>\n",
              "      <td>Prof-specialty</td>\n",
              "      <td>Female</td>\n",
              "      <td>40</td>\n",
              "      <td>&lt;=50K</td>\n",
              "    </tr>\n",
              "  </tbody>\n",
              "</table>\n",
              "</div>"
            ],
            "text/plain": [
              "   age         workclass  education-num  ...     sex hours-per-week  income\n",
              "0   39         State-gov             13  ...    Male             40   <=50K\n",
              "1   50  Self-emp-not-inc             13  ...    Male             13   <=50K\n",
              "2   38           Private              9  ...    Male             40   <=50K\n",
              "3   53           Private              7  ...    Male             40   <=50K\n",
              "4   28           Private             13  ...  Female             40   <=50K\n",
              "\n",
              "[5 rows x 7 columns]"
            ]
          },
          "metadata": {
            "tags": []
          },
          "execution_count": 4
        }
      ]
    },
    {
      "cell_type": "markdown",
      "metadata": {
        "id": "Z5MhgE71pLIs"
      },
      "source": [
        "### Data preprocessing"
      ]
    },
    {
      "cell_type": "markdown",
      "metadata": {
        "id": "fUHdQvq_pLIs"
      },
      "source": [
        "#### First step - change the labels into binary values."
      ]
    },
    {
      "cell_type": "code",
      "metadata": {
        "id": "dyBW1GDUpLIt",
        "colab": {
          "base_uri": "https://localhost:8080/",
          "height": 419
        },
        "outputId": "1bdf69ae-658f-4c49-e02e-01c47bb82f8f"
      },
      "source": [
        "df.income = (df.income == '>50K').astype(int)\n",
        "print(df.income.value_counts())\n",
        "df.head(10)"
      ],
      "execution_count": null,
      "outputs": [
        {
          "output_type": "stream",
          "text": [
            "0    24720\n",
            "1     7841\n",
            "Name: income, dtype: int64\n"
          ],
          "name": "stdout"
        },
        {
          "output_type": "execute_result",
          "data": {
            "text/html": [
              "<div>\n",
              "<style scoped>\n",
              "    .dataframe tbody tr th:only-of-type {\n",
              "        vertical-align: middle;\n",
              "    }\n",
              "\n",
              "    .dataframe tbody tr th {\n",
              "        vertical-align: top;\n",
              "    }\n",
              "\n",
              "    .dataframe thead th {\n",
              "        text-align: right;\n",
              "    }\n",
              "</style>\n",
              "<table border=\"1\" class=\"dataframe\">\n",
              "  <thead>\n",
              "    <tr style=\"text-align: right;\">\n",
              "      <th></th>\n",
              "      <th>age</th>\n",
              "      <th>workclass</th>\n",
              "      <th>education-num</th>\n",
              "      <th>occupation</th>\n",
              "      <th>sex</th>\n",
              "      <th>hours-per-week</th>\n",
              "      <th>income</th>\n",
              "    </tr>\n",
              "  </thead>\n",
              "  <tbody>\n",
              "    <tr>\n",
              "      <th>0</th>\n",
              "      <td>39</td>\n",
              "      <td>State-gov</td>\n",
              "      <td>13</td>\n",
              "      <td>Adm-clerical</td>\n",
              "      <td>Male</td>\n",
              "      <td>40</td>\n",
              "      <td>0</td>\n",
              "    </tr>\n",
              "    <tr>\n",
              "      <th>1</th>\n",
              "      <td>50</td>\n",
              "      <td>Self-emp-not-inc</td>\n",
              "      <td>13</td>\n",
              "      <td>Exec-managerial</td>\n",
              "      <td>Male</td>\n",
              "      <td>13</td>\n",
              "      <td>0</td>\n",
              "    </tr>\n",
              "    <tr>\n",
              "      <th>2</th>\n",
              "      <td>38</td>\n",
              "      <td>Private</td>\n",
              "      <td>9</td>\n",
              "      <td>Handlers-cleaners</td>\n",
              "      <td>Male</td>\n",
              "      <td>40</td>\n",
              "      <td>0</td>\n",
              "    </tr>\n",
              "    <tr>\n",
              "      <th>3</th>\n",
              "      <td>53</td>\n",
              "      <td>Private</td>\n",
              "      <td>7</td>\n",
              "      <td>Handlers-cleaners</td>\n",
              "      <td>Male</td>\n",
              "      <td>40</td>\n",
              "      <td>0</td>\n",
              "    </tr>\n",
              "    <tr>\n",
              "      <th>4</th>\n",
              "      <td>28</td>\n",
              "      <td>Private</td>\n",
              "      <td>13</td>\n",
              "      <td>Prof-specialty</td>\n",
              "      <td>Female</td>\n",
              "      <td>40</td>\n",
              "      <td>0</td>\n",
              "    </tr>\n",
              "    <tr>\n",
              "      <th>5</th>\n",
              "      <td>37</td>\n",
              "      <td>Private</td>\n",
              "      <td>14</td>\n",
              "      <td>Exec-managerial</td>\n",
              "      <td>Female</td>\n",
              "      <td>40</td>\n",
              "      <td>0</td>\n",
              "    </tr>\n",
              "    <tr>\n",
              "      <th>6</th>\n",
              "      <td>49</td>\n",
              "      <td>Private</td>\n",
              "      <td>5</td>\n",
              "      <td>Other-service</td>\n",
              "      <td>Female</td>\n",
              "      <td>16</td>\n",
              "      <td>0</td>\n",
              "    </tr>\n",
              "    <tr>\n",
              "      <th>7</th>\n",
              "      <td>52</td>\n",
              "      <td>Self-emp-not-inc</td>\n",
              "      <td>9</td>\n",
              "      <td>Exec-managerial</td>\n",
              "      <td>Male</td>\n",
              "      <td>45</td>\n",
              "      <td>1</td>\n",
              "    </tr>\n",
              "    <tr>\n",
              "      <th>8</th>\n",
              "      <td>31</td>\n",
              "      <td>Private</td>\n",
              "      <td>14</td>\n",
              "      <td>Prof-specialty</td>\n",
              "      <td>Female</td>\n",
              "      <td>50</td>\n",
              "      <td>1</td>\n",
              "    </tr>\n",
              "    <tr>\n",
              "      <th>9</th>\n",
              "      <td>42</td>\n",
              "      <td>Private</td>\n",
              "      <td>13</td>\n",
              "      <td>Exec-managerial</td>\n",
              "      <td>Male</td>\n",
              "      <td>40</td>\n",
              "      <td>1</td>\n",
              "    </tr>\n",
              "  </tbody>\n",
              "</table>\n",
              "</div>"
            ],
            "text/plain": [
              "   age         workclass  education-num  ...     sex hours-per-week  income\n",
              "0   39         State-gov             13  ...    Male             40       0\n",
              "1   50  Self-emp-not-inc             13  ...    Male             13       0\n",
              "2   38           Private              9  ...    Male             40       0\n",
              "3   53           Private              7  ...    Male             40       0\n",
              "4   28           Private             13  ...  Female             40       0\n",
              "5   37           Private             14  ...  Female             40       0\n",
              "6   49           Private              5  ...  Female             16       0\n",
              "7   52  Self-emp-not-inc              9  ...    Male             45       1\n",
              "8   31           Private             14  ...  Female             50       1\n",
              "9   42           Private             13  ...    Male             40       1\n",
              "\n",
              "[10 rows x 7 columns]"
            ]
          },
          "metadata": {
            "tags": []
          },
          "execution_count": 5
        }
      ]
    },
    {
      "cell_type": "markdown",
      "metadata": {
        "id": "hGuQ7fh6pLIt"
      },
      "source": [
        "#### Second step - change the `sex` column into binary values"
      ]
    },
    {
      "cell_type": "code",
      "metadata": {
        "id": "T57NysyFpLIt",
        "colab": {
          "base_uri": "https://localhost:8080/",
          "height": 206
        },
        "outputId": "9d47a889-34dc-4c57-cc8d-b3b5a9837238"
      },
      "source": [
        "df = pd.get_dummies(df, columns=['sex'], drop_first = True)\n",
        "df.head()"
      ],
      "execution_count": null,
      "outputs": [
        {
          "output_type": "execute_result",
          "data": {
            "text/html": [
              "<div>\n",
              "<style scoped>\n",
              "    .dataframe tbody tr th:only-of-type {\n",
              "        vertical-align: middle;\n",
              "    }\n",
              "\n",
              "    .dataframe tbody tr th {\n",
              "        vertical-align: top;\n",
              "    }\n",
              "\n",
              "    .dataframe thead th {\n",
              "        text-align: right;\n",
              "    }\n",
              "</style>\n",
              "<table border=\"1\" class=\"dataframe\">\n",
              "  <thead>\n",
              "    <tr style=\"text-align: right;\">\n",
              "      <th></th>\n",
              "      <th>age</th>\n",
              "      <th>workclass</th>\n",
              "      <th>education-num</th>\n",
              "      <th>occupation</th>\n",
              "      <th>hours-per-week</th>\n",
              "      <th>income</th>\n",
              "      <th>sex_Male</th>\n",
              "    </tr>\n",
              "  </thead>\n",
              "  <tbody>\n",
              "    <tr>\n",
              "      <th>0</th>\n",
              "      <td>39</td>\n",
              "      <td>State-gov</td>\n",
              "      <td>13</td>\n",
              "      <td>Adm-clerical</td>\n",
              "      <td>40</td>\n",
              "      <td>0</td>\n",
              "      <td>1</td>\n",
              "    </tr>\n",
              "    <tr>\n",
              "      <th>1</th>\n",
              "      <td>50</td>\n",
              "      <td>Self-emp-not-inc</td>\n",
              "      <td>13</td>\n",
              "      <td>Exec-managerial</td>\n",
              "      <td>13</td>\n",
              "      <td>0</td>\n",
              "      <td>1</td>\n",
              "    </tr>\n",
              "    <tr>\n",
              "      <th>2</th>\n",
              "      <td>38</td>\n",
              "      <td>Private</td>\n",
              "      <td>9</td>\n",
              "      <td>Handlers-cleaners</td>\n",
              "      <td>40</td>\n",
              "      <td>0</td>\n",
              "      <td>1</td>\n",
              "    </tr>\n",
              "    <tr>\n",
              "      <th>3</th>\n",
              "      <td>53</td>\n",
              "      <td>Private</td>\n",
              "      <td>7</td>\n",
              "      <td>Handlers-cleaners</td>\n",
              "      <td>40</td>\n",
              "      <td>0</td>\n",
              "      <td>1</td>\n",
              "    </tr>\n",
              "    <tr>\n",
              "      <th>4</th>\n",
              "      <td>28</td>\n",
              "      <td>Private</td>\n",
              "      <td>13</td>\n",
              "      <td>Prof-specialty</td>\n",
              "      <td>40</td>\n",
              "      <td>0</td>\n",
              "      <td>0</td>\n",
              "    </tr>\n",
              "  </tbody>\n",
              "</table>\n",
              "</div>"
            ],
            "text/plain": [
              "   age         workclass  education-num  ... hours-per-week  income  sex_Male\n",
              "0   39         State-gov             13  ...             40       0         1\n",
              "1   50  Self-emp-not-inc             13  ...             13       0         1\n",
              "2   38           Private              9  ...             40       0         1\n",
              "3   53           Private              7  ...             40       0         1\n",
              "4   28           Private             13  ...             40       0         0\n",
              "\n",
              "[5 rows x 7 columns]"
            ]
          },
          "metadata": {
            "tags": []
          },
          "execution_count": 6
        }
      ]
    },
    {
      "cell_type": "markdown",
      "metadata": {
        "id": "_KXfmB61pLIt"
      },
      "source": [
        "#### Third step - replace rare classes"
      ]
    },
    {
      "cell_type": "markdown",
      "metadata": {
        "id": "-YJCv-mzpLIu"
      },
      "source": [
        "Let's check if we have any rare classes"
      ]
    },
    {
      "cell_type": "code",
      "metadata": {
        "colab": {
          "base_uri": "https://localhost:8080/"
        },
        "id": "lbkEEGujpLIu",
        "outputId": "134f9307-2333-4ca8-e009-6002b6983dcc"
      },
      "source": [
        "df.workclass.value_counts()"
      ],
      "execution_count": null,
      "outputs": [
        {
          "output_type": "execute_result",
          "data": {
            "text/plain": [
              "Private             22696\n",
              "Self-emp-not-inc     2541\n",
              "Local-gov            2093\n",
              "?                    1836\n",
              "State-gov            1298\n",
              "Self-emp-inc         1116\n",
              "Federal-gov           960\n",
              "Without-pay            14\n",
              "Never-worked            7\n",
              "Name: workclass, dtype: int64"
            ]
          },
          "metadata": {
            "tags": []
          },
          "execution_count": 7
        }
      ]
    },
    {
      "cell_type": "code",
      "metadata": {
        "id": "xZ1kh6-ApLIv",
        "colab": {
          "base_uri": "https://localhost:8080/"
        },
        "outputId": "e881d0ca-c73e-49a7-b3d0-1d78008c4471"
      },
      "source": [
        "df.occupation.value_counts()"
      ],
      "execution_count": null,
      "outputs": [
        {
          "output_type": "execute_result",
          "data": {
            "text/plain": [
              "Prof-specialty       4140\n",
              "Craft-repair         4099\n",
              "Exec-managerial      4066\n",
              "Adm-clerical         3770\n",
              "Sales                3650\n",
              "Other-service        3295\n",
              "Machine-op-inspct    2002\n",
              "?                    1843\n",
              "Transport-moving     1597\n",
              "Handlers-cleaners    1370\n",
              "Farming-fishing       994\n",
              "Tech-support          928\n",
              "Protective-serv       649\n",
              "Priv-house-serv       149\n",
              "Armed-Forces            9\n",
              "Name: occupation, dtype: int64"
            ]
          },
          "metadata": {
            "tags": []
          },
          "execution_count": 8
        }
      ]
    },
    {
      "cell_type": "markdown",
      "metadata": {
        "id": "CHfXRknApLIv"
      },
      "source": [
        "Then we should replace rare classes for one-hot encoded columns"
      ]
    },
    {
      "cell_type": "code",
      "metadata": {
        "id": "5TTIPJ1cpLIv",
        "colab": {
          "base_uri": "https://localhost:8080/"
        },
        "outputId": "3fbeb1be-bdb8-4c0a-ca32-6afdd90ba882"
      },
      "source": [
        "df.loc[df.workclass.isin(['Without-pay', 'Never-worked']), 'workclass'] = '?' \n",
        "df.workclass.value_counts()"
      ],
      "execution_count": null,
      "outputs": [
        {
          "output_type": "execute_result",
          "data": {
            "text/plain": [
              "Private             22696\n",
              "Self-emp-not-inc     2541\n",
              "Local-gov            2093\n",
              "?                    1857\n",
              "State-gov            1298\n",
              "Self-emp-inc         1116\n",
              "Federal-gov           960\n",
              "Name: workclass, dtype: int64"
            ]
          },
          "metadata": {
            "tags": []
          },
          "execution_count": 9
        }
      ]
    },
    {
      "cell_type": "markdown",
      "metadata": {
        "id": "YckGO73A0Ujf"
      },
      "source": [
        ""
      ]
    },
    {
      "cell_type": "code",
      "metadata": {
        "colab": {
          "base_uri": "https://localhost:8080/"
        },
        "id": "B9kOT5wP0CqB",
        "outputId": "f6d28ea0-9aee-4e0d-8d4a-2fdfc66bcf9b"
      },
      "source": [
        "df.loc[df.occupation.isin(['Protective-serv', 'Priv-house-serv', 'Armed-Forces']), 'occupation'] = '?'\n",
        "df.occupation.value_counts()"
      ],
      "execution_count": null,
      "outputs": [
        {
          "output_type": "execute_result",
          "data": {
            "text/plain": [
              "Prof-specialty       4140\n",
              "Craft-repair         4099\n",
              "Exec-managerial      4066\n",
              "Adm-clerical         3770\n",
              "Sales                3650\n",
              "Other-service        3295\n",
              "?                    2650\n",
              "Machine-op-inspct    2002\n",
              "Transport-moving     1597\n",
              "Handlers-cleaners    1370\n",
              "Farming-fishing       994\n",
              "Tech-support          928\n",
              "Name: occupation, dtype: int64"
            ]
          },
          "metadata": {
            "tags": []
          },
          "execution_count": 10
        }
      ]
    },
    {
      "cell_type": "code",
      "metadata": {
        "id": "dR0BC8q6pLIv"
      },
      "source": [
        ""
      ],
      "execution_count": null,
      "outputs": []
    },
    {
      "cell_type": "markdown",
      "metadata": {
        "id": "0qi3fAnNpLIv"
      },
      "source": [
        "#### Final step - one hot encoding"
      ]
    },
    {
      "cell_type": "code",
      "metadata": {
        "id": "4r0DVaQ2pLIw",
        "colab": {
          "base_uri": "https://localhost:8080/",
          "height": 486
        },
        "outputId": "74750dbd-19af-4d08-c9c6-37d24bc443b9"
      },
      "source": [
        "# df = pd.get_dummies(df, columns=['workclass', 'occupation'], drop_first= True)\n",
        "df = pd.get_dummies(df, columns=['workclass', 'occupation'])\n",
        "print(df.shape)\n",
        "print(df.columns)\n",
        "df.head() "
      ],
      "execution_count": null,
      "outputs": [
        {
          "output_type": "stream",
          "text": [
            "(32561, 24)\n",
            "Index(['age', 'education-num', 'hours-per-week', 'income', 'sex_Male',\n",
            "       'workclass_?', 'workclass_Federal-gov', 'workclass_Local-gov',\n",
            "       'workclass_Private', 'workclass_Self-emp-inc',\n",
            "       'workclass_Self-emp-not-inc', 'workclass_State-gov', 'occupation_?',\n",
            "       'occupation_Adm-clerical', 'occupation_Craft-repair',\n",
            "       'occupation_Exec-managerial', 'occupation_Farming-fishing',\n",
            "       'occupation_Handlers-cleaners', 'occupation_Machine-op-inspct',\n",
            "       'occupation_Other-service', 'occupation_Prof-specialty',\n",
            "       'occupation_Sales', 'occupation_Tech-support',\n",
            "       'occupation_Transport-moving'],\n",
            "      dtype='object')\n"
          ],
          "name": "stdout"
        },
        {
          "output_type": "execute_result",
          "data": {
            "text/html": [
              "<div>\n",
              "<style scoped>\n",
              "    .dataframe tbody tr th:only-of-type {\n",
              "        vertical-align: middle;\n",
              "    }\n",
              "\n",
              "    .dataframe tbody tr th {\n",
              "        vertical-align: top;\n",
              "    }\n",
              "\n",
              "    .dataframe thead th {\n",
              "        text-align: right;\n",
              "    }\n",
              "</style>\n",
              "<table border=\"1\" class=\"dataframe\">\n",
              "  <thead>\n",
              "    <tr style=\"text-align: right;\">\n",
              "      <th></th>\n",
              "      <th>age</th>\n",
              "      <th>education-num</th>\n",
              "      <th>hours-per-week</th>\n",
              "      <th>income</th>\n",
              "      <th>sex_Male</th>\n",
              "      <th>workclass_?</th>\n",
              "      <th>workclass_Federal-gov</th>\n",
              "      <th>workclass_Local-gov</th>\n",
              "      <th>workclass_Private</th>\n",
              "      <th>workclass_Self-emp-inc</th>\n",
              "      <th>workclass_Self-emp-not-inc</th>\n",
              "      <th>workclass_State-gov</th>\n",
              "      <th>occupation_?</th>\n",
              "      <th>occupation_Adm-clerical</th>\n",
              "      <th>occupation_Craft-repair</th>\n",
              "      <th>occupation_Exec-managerial</th>\n",
              "      <th>occupation_Farming-fishing</th>\n",
              "      <th>occupation_Handlers-cleaners</th>\n",
              "      <th>occupation_Machine-op-inspct</th>\n",
              "      <th>occupation_Other-service</th>\n",
              "      <th>occupation_Prof-specialty</th>\n",
              "      <th>occupation_Sales</th>\n",
              "      <th>occupation_Tech-support</th>\n",
              "      <th>occupation_Transport-moving</th>\n",
              "    </tr>\n",
              "  </thead>\n",
              "  <tbody>\n",
              "    <tr>\n",
              "      <th>0</th>\n",
              "      <td>39</td>\n",
              "      <td>13</td>\n",
              "      <td>40</td>\n",
              "      <td>0</td>\n",
              "      <td>1</td>\n",
              "      <td>0</td>\n",
              "      <td>0</td>\n",
              "      <td>0</td>\n",
              "      <td>0</td>\n",
              "      <td>0</td>\n",
              "      <td>0</td>\n",
              "      <td>1</td>\n",
              "      <td>0</td>\n",
              "      <td>1</td>\n",
              "      <td>0</td>\n",
              "      <td>0</td>\n",
              "      <td>0</td>\n",
              "      <td>0</td>\n",
              "      <td>0</td>\n",
              "      <td>0</td>\n",
              "      <td>0</td>\n",
              "      <td>0</td>\n",
              "      <td>0</td>\n",
              "      <td>0</td>\n",
              "    </tr>\n",
              "    <tr>\n",
              "      <th>1</th>\n",
              "      <td>50</td>\n",
              "      <td>13</td>\n",
              "      <td>13</td>\n",
              "      <td>0</td>\n",
              "      <td>1</td>\n",
              "      <td>0</td>\n",
              "      <td>0</td>\n",
              "      <td>0</td>\n",
              "      <td>0</td>\n",
              "      <td>0</td>\n",
              "      <td>1</td>\n",
              "      <td>0</td>\n",
              "      <td>0</td>\n",
              "      <td>0</td>\n",
              "      <td>0</td>\n",
              "      <td>1</td>\n",
              "      <td>0</td>\n",
              "      <td>0</td>\n",
              "      <td>0</td>\n",
              "      <td>0</td>\n",
              "      <td>0</td>\n",
              "      <td>0</td>\n",
              "      <td>0</td>\n",
              "      <td>0</td>\n",
              "    </tr>\n",
              "    <tr>\n",
              "      <th>2</th>\n",
              "      <td>38</td>\n",
              "      <td>9</td>\n",
              "      <td>40</td>\n",
              "      <td>0</td>\n",
              "      <td>1</td>\n",
              "      <td>0</td>\n",
              "      <td>0</td>\n",
              "      <td>0</td>\n",
              "      <td>1</td>\n",
              "      <td>0</td>\n",
              "      <td>0</td>\n",
              "      <td>0</td>\n",
              "      <td>0</td>\n",
              "      <td>0</td>\n",
              "      <td>0</td>\n",
              "      <td>0</td>\n",
              "      <td>0</td>\n",
              "      <td>1</td>\n",
              "      <td>0</td>\n",
              "      <td>0</td>\n",
              "      <td>0</td>\n",
              "      <td>0</td>\n",
              "      <td>0</td>\n",
              "      <td>0</td>\n",
              "    </tr>\n",
              "    <tr>\n",
              "      <th>3</th>\n",
              "      <td>53</td>\n",
              "      <td>7</td>\n",
              "      <td>40</td>\n",
              "      <td>0</td>\n",
              "      <td>1</td>\n",
              "      <td>0</td>\n",
              "      <td>0</td>\n",
              "      <td>0</td>\n",
              "      <td>1</td>\n",
              "      <td>0</td>\n",
              "      <td>0</td>\n",
              "      <td>0</td>\n",
              "      <td>0</td>\n",
              "      <td>0</td>\n",
              "      <td>0</td>\n",
              "      <td>0</td>\n",
              "      <td>0</td>\n",
              "      <td>1</td>\n",
              "      <td>0</td>\n",
              "      <td>0</td>\n",
              "      <td>0</td>\n",
              "      <td>0</td>\n",
              "      <td>0</td>\n",
              "      <td>0</td>\n",
              "    </tr>\n",
              "    <tr>\n",
              "      <th>4</th>\n",
              "      <td>28</td>\n",
              "      <td>13</td>\n",
              "      <td>40</td>\n",
              "      <td>0</td>\n",
              "      <td>0</td>\n",
              "      <td>0</td>\n",
              "      <td>0</td>\n",
              "      <td>0</td>\n",
              "      <td>1</td>\n",
              "      <td>0</td>\n",
              "      <td>0</td>\n",
              "      <td>0</td>\n",
              "      <td>0</td>\n",
              "      <td>0</td>\n",
              "      <td>0</td>\n",
              "      <td>0</td>\n",
              "      <td>0</td>\n",
              "      <td>0</td>\n",
              "      <td>0</td>\n",
              "      <td>0</td>\n",
              "      <td>1</td>\n",
              "      <td>0</td>\n",
              "      <td>0</td>\n",
              "      <td>0</td>\n",
              "    </tr>\n",
              "  </tbody>\n",
              "</table>\n",
              "</div>"
            ],
            "text/plain": [
              "   age  education-num  ...  occupation_Tech-support  occupation_Transport-moving\n",
              "0   39             13  ...                        0                            0\n",
              "1   50             13  ...                        0                            0\n",
              "2   38              9  ...                        0                            0\n",
              "3   53              7  ...                        0                            0\n",
              "4   28             13  ...                        0                            0\n",
              "\n",
              "[5 rows x 24 columns]"
            ]
          },
          "metadata": {
            "tags": []
          },
          "execution_count": 11
        }
      ]
    },
    {
      "cell_type": "markdown",
      "metadata": {
        "id": "rsaD_JjqpLIw"
      },
      "source": [
        "## Splitting dataset"
      ]
    },
    {
      "cell_type": "markdown",
      "metadata": {
        "id": "aVH2aZrMpLIw"
      },
      "source": [
        "Let's split the dataset into features and labels first.\n",
        "- `income` is the label (`y`)\n",
        "- all other columns are features (`X`)"
      ]
    },
    {
      "cell_type": "code",
      "metadata": {
        "id": "rITm_WtIpLIw"
      },
      "source": [
        "y = df.income\n",
        "x=df.drop('income', axis =1)"
      ],
      "execution_count": null,
      "outputs": []
    },
    {
      "cell_type": "markdown",
      "metadata": {
        "id": "XLaOdNM8pLIw"
      },
      "source": [
        "### Train test split\n",
        "#### NOTE: This time we want to split the data into 3 datasets\n",
        "Split ratio: 60, 20, 20"
      ]
    },
    {
      "cell_type": "code",
      "metadata": {
        "id": "AgWOssW4pLIw",
        "colab": {
          "base_uri": "https://localhost:8080/"
        },
        "outputId": "a10d4a0a-dd4b-48ff-b402-00b86248ec53"
      },
      "source": [
        "from sklearn.model_selection import train_test_split\n",
        "\n",
        "X_train, X_test, y_train, y_test = train_test_split(x,y,test_size = 0.4, stratify = y, random_state = 1)\n",
        "\n",
        "X_valid, X_test, y_valid, y_test = train_test_split(X_test,y_test, test_size = 0.5,\n",
        "                                                    stratify = y_test, random_state =1)\n",
        "print('X train shape:', X_train.shape)\n",
        "print('Y train shape', y_train.shape)\n",
        "\n",
        "print('X valid shape:', X_valid.shape)\n",
        "print('y valid shape:', y_valid.shape)\n",
        "\n",
        "print('X test shape:', X_test.shape)\n",
        "print('y test shape:', y_test.shape)"
      ],
      "execution_count": null,
      "outputs": [
        {
          "output_type": "stream",
          "text": [
            "X train shape: (19536, 23)\n",
            "Y train shape (19536,)\n",
            "X valid shape: (6512, 23)\n",
            "y valid shape: (6512,)\n",
            "X test shape: (6513, 23)\n",
            "y test shape: (6513,)\n"
          ],
          "name": "stdout"
        }
      ]
    },
    {
      "cell_type": "markdown",
      "metadata": {
        "id": "xViJVnRRpLIw"
      },
      "source": [
        "# Keras"
      ]
    },
    {
      "cell_type": "markdown",
      "metadata": {
        "id": "ykrLlIiopLIw"
      },
      "source": [
        "Import modules"
      ]
    },
    {
      "cell_type": "code",
      "metadata": {
        "id": "f_rgQjJGpLIx"
      },
      "source": [
        "from tensorflow.keras.models import Sequential\n",
        "from tensorflow.keras.layers import Dense\n",
        "from tensorflow.keras.layers import Dropout\n",
        "\n",
        "##optymalizatory - back prop - gradient decent z chain role\n",
        "\n",
        "from tensorflow.keras import optimizers\n"
      ],
      "execution_count": null,
      "outputs": []
    },
    {
      "cell_type": "markdown",
      "metadata": {
        "id": "OS37664OpLIy"
      },
      "source": [
        "## Building model"
      ]
    },
    {
      "cell_type": "markdown",
      "metadata": {
        "id": "PwEt8AKupLIy"
      },
      "source": [
        "Let's define the hyperparameters first"
      ]
    },
    {
      "cell_type": "code",
      "metadata": {
        "id": "tx8D2katpLIy",
        "colab": {
          "base_uri": "https://localhost:8080/"
        },
        "outputId": "914bc7c5-e591-471e-ba36-3a8e8862326b"
      },
      "source": [
        "CELLS_1 = 32\n",
        "CELLS_2 = 8\n",
        "\n",
        "LEARNING_RATE = 0.001\n",
        "EPOCHS = 10\n",
        "BATCH_SIZE = 128\n",
        "\n",
        "NR_INPUTS = X_train.shape[1]\n",
        "\n",
        "print('X_train dataset zawiera {} fetures (columns)'.format(NR_INPUTS))"
      ],
      "execution_count": null,
      "outputs": [
        {
          "output_type": "stream",
          "text": [
            "X_train dataset zawiera 23 fetures (columns)\n"
          ],
          "name": "stdout"
        }
      ]
    },
    {
      "cell_type": "markdown",
      "metadata": {
        "id": "At31QxaXpLIy"
      },
      "source": [
        "Now we may build the model"
      ]
    },
    {
      "cell_type": "code",
      "metadata": {
        "id": "6Vn7Z28bpLIy",
        "colab": {
          "base_uri": "https://localhost:8080/"
        },
        "outputId": "579f97c3-c710-430a-fb57-6fdc6d2b6e80"
      },
      "source": [
        "model = Sequential()\n",
        "\n",
        "model.add(Dense(CELLS_1, input_shape = [NR_INPUTS, ], activation='relu'))\n",
        "model.add(Dense(CELLS_2, activation='relu'))\n",
        "\n",
        "model.add(Dense(1, activation='sigmoid'))\n",
        "\n",
        "optimizer = optimizers.Adam(lr=LEARNING_RATE)\n",
        "\n",
        "model.compile(loss = 'binary_crossentropy', optimizer = optimizer, metrics = ['accuracy'])\n",
        "\n",
        "model.summary()"
      ],
      "execution_count": null,
      "outputs": [
        {
          "output_type": "stream",
          "text": [
            "Model: \"sequential\"\n",
            "_________________________________________________________________\n",
            "Layer (type)                 Output Shape              Param #   \n",
            "=================================================================\n",
            "dense (Dense)                (None, 32)                768       \n",
            "_________________________________________________________________\n",
            "dense_1 (Dense)              (None, 8)                 264       \n",
            "_________________________________________________________________\n",
            "dense_2 (Dense)              (None, 1)                 9         \n",
            "=================================================================\n",
            "Total params: 1,041\n",
            "Trainable params: 1,041\n",
            "Non-trainable params: 0\n",
            "_________________________________________________________________\n"
          ],
          "name": "stdout"
        }
      ]
    },
    {
      "cell_type": "code",
      "metadata": {
        "id": "YYbDIKccpLIy",
        "colab": {
          "base_uri": "https://localhost:8080/"
        },
        "outputId": "ea9d35b7-3ff2-44d1-fb93-639a88c1efdd"
      },
      "source": [
        "history = model.fit(X_train,y_train,\n",
        "                    validation_data = (X_valid, y_valid),\n",
        "                    batch_size = BATCH_SIZE,\n",
        "                    epochs = EPOCHS)"
      ],
      "execution_count": null,
      "outputs": [
        {
          "output_type": "stream",
          "text": [
            "Epoch 1/10\n",
            "153/153 [==============================] - 0s 2ms/step - loss: 1.1496 - accuracy: 0.6347 - val_loss: 0.5742 - val_accuracy: 0.7591\n",
            "Epoch 2/10\n",
            "153/153 [==============================] - 0s 1ms/step - loss: 0.5615 - accuracy: 0.7589 - val_loss: 0.5482 - val_accuracy: 0.7592\n",
            "Epoch 3/10\n",
            "153/153 [==============================] - 0s 1ms/step - loss: 0.5344 - accuracy: 0.7600 - val_loss: 0.5204 - val_accuracy: 0.7614\n",
            "Epoch 4/10\n",
            "153/153 [==============================] - 0s 1ms/step - loss: 0.4977 - accuracy: 0.7711 - val_loss: 0.4857 - val_accuracy: 0.7756\n",
            "Epoch 5/10\n",
            "153/153 [==============================] - 0s 1ms/step - loss: 0.4710 - accuracy: 0.7805 - val_loss: 0.4800 - val_accuracy: 0.7709\n",
            "Epoch 6/10\n",
            "153/153 [==============================] - 0s 1ms/step - loss: 0.4583 - accuracy: 0.7844 - val_loss: 0.4526 - val_accuracy: 0.7865\n",
            "Epoch 7/10\n",
            "153/153 [==============================] - 0s 2ms/step - loss: 0.4481 - accuracy: 0.7912 - val_loss: 0.4392 - val_accuracy: 0.7925\n",
            "Epoch 8/10\n",
            "153/153 [==============================] - 0s 2ms/step - loss: 0.4398 - accuracy: 0.7954 - val_loss: 0.4326 - val_accuracy: 0.7973\n",
            "Epoch 9/10\n",
            "153/153 [==============================] - 0s 1ms/step - loss: 0.4358 - accuracy: 0.7947 - val_loss: 0.4267 - val_accuracy: 0.7999\n",
            "Epoch 10/10\n",
            "153/153 [==============================] - 0s 1ms/step - loss: 0.4292 - accuracy: 0.7981 - val_loss: 0.4210 - val_accuracy: 0.8062\n"
          ],
          "name": "stdout"
        }
      ]
    },
    {
      "cell_type": "markdown",
      "metadata": {
        "id": "vUl6QV5lpLIz"
      },
      "source": [
        "Let's display the training history"
      ]
    },
    {
      "cell_type": "code",
      "metadata": {
        "id": "fb9CsNWPpLIz"
      },
      "source": [
        "def plot_train_valid_history(history):\n",
        "    \"\"\"\n",
        "    Plots train and validation losses.\n",
        "    Arguments: history - history of training (result of keras model.fit).\n",
        "        history.history must be a dictionary that looks as follow:\n",
        "        {\n",
        "            'loss' : .....\n",
        "            'valid_loss' : .....\n",
        "            'acc' : .... # Optional\n",
        "            'val_acc' : ..... # Optional\n",
        "        }\n",
        "    \"\"\"\n",
        "    epochs = np.arange(len(history.history['val_loss'])) + 1\n",
        "    fig = plt.figure(figsize=(8, 4))\n",
        "    if 'accuracy' in history.history:\n",
        "        ax1 = fig.add_subplot(121)\n",
        "        ax1.plot(epochs, history.history['loss'], c='b', label='Train loss')\n",
        "        ax1.plot(epochs, history.history['val_loss'], c='g', label='Valid loss')\n",
        "        plt.legend(loc='lower left');\n",
        "        plt.grid(True)        \n",
        "        \n",
        "        ax1 = fig.add_subplot(122)\n",
        "        ax1.plot(epochs, history.history['accuracy'], c='b', label='Train acc')\n",
        "        ax1.plot(epochs, history.history['val_accuracy'], c='g', label='Valid acc')\n",
        "        plt.legend(loc='lower right');\n",
        "        plt.grid(True)        \n",
        "         \n",
        "        \n",
        "    else:\n",
        "        ax1 = fig.add_subplot(111)\n",
        "        ax1.plot(epochs, history.history['loss'], c='b', label='Train loss')\n",
        "        ax1.plot(epochs, history.history['val_loss'], c='g', label='Valid loss')\n",
        "        plt.legend(loc='lower left');\n",
        "        plt.grid(True)\n",
        "    plt.show()\n",
        "\n"
      ],
      "execution_count": null,
      "outputs": []
    },
    {
      "cell_type": "code",
      "metadata": {
        "id": "ZbsUnO38pLIz",
        "colab": {
          "base_uri": "https://localhost:8080/",
          "height": 265
        },
        "outputId": "00850b72-7363-4468-bc2f-bd8821884f3a"
      },
      "source": [
        "plot_train_valid_history(history)"
      ],
      "execution_count": null,
      "outputs": [
        {
          "output_type": "display_data",
          "data": {
            "image/png": "[encoded data removed]",
            "text/plain": [
              "<Figure size 576x288 with 2 Axes>"
            ]
          },
          "metadata": {
            "tags": [],
            "needs_background": "light"
          }
        }
      ]
    },
    {
      "cell_type": "code",
      "metadata": {
        "id": "3eN3MgTspLIz",
        "colab": {
          "base_uri": "https://localhost:8080/"
        },
        "outputId": "4b486600-c8e9-49ee-a6e1-65663d925b11"
      },
      "source": [
        "score, acc = model.evaluate(X_test,y_test)\n",
        "\n",
        "print('Test score:', score)\n",
        "print('Test accuracy:', acc)"
      ],
      "execution_count": null,
      "outputs": [
        {
          "output_type": "stream",
          "text": [
            "204/204 [==============================] - 0s 745us/step - loss: 0.4211 - accuracy: 0.8068\n",
            "Test score: 0.42109790444374084\n",
            "Test accuracy: 0.806847870349884\n"
          ],
          "name": "stdout"
        }
      ]
    },
    {
      "cell_type": "markdown",
      "metadata": {
        "id": "kDvrA6ErpLIz"
      },
      "source": [
        "## Task 1\n",
        "Create, train and test a model with following parameters:\n",
        "- First hidden layer: 32 neurons, relu activation\n",
        "- Dropout after first hidden layer keep_probability = 0.5\n",
        "- Second hidden layer: 32 neurons, relu activation\n",
        "- Output layer: 1 neuron, sigmoid activation\n",
        "\n",
        "Training parameters:\n",
        "- Learning Rate: 0.0003\n",
        "- Number of Epochs: 50\n",
        "- Batch size: 128\n",
        "\n",
        "*Note: You will need your model in task 2, so it is a good idea to write a function, which creates the model.*\n",
        "\n",
        "![alt text](./img/model_keras_task1.png \"Task 1 model\")"
      ]
    },
    {
      "cell_type": "code",
      "metadata": {
        "id": "73ktLDJApLI0",
        "colab": {
          "base_uri": "https://localhost:8080/"
        },
        "outputId": "f560d90b-0df0-48d0-9dcc-95c7ae3a4fa2"
      },
      "source": [
        "# HYPERPARAMETERS\n",
        "CELLS_1a = 32\n",
        "CELLS_2a = 32\n",
        "\n",
        "DROPOUT = 0.5\n",
        "LEARNING_RATE = 0.0003\n",
        "EPOCHS = 50\n",
        "BATCH_SIZE = 128\n",
        "\n",
        "NR_INPUTS = X_train.shape[1]\n",
        "\n",
        "print('X_train dataset zawiera {} fetures (columns)'.format(NR_INPUTS))\n",
        "\n"
      ],
      "execution_count": null,
      "outputs": [
        {
          "output_type": "stream",
          "text": [
            "X_train dataset zawiera 23 fetures (columns)\n"
          ],
          "name": "stdout"
        }
      ]
    },
    {
      "cell_type": "code",
      "metadata": {
        "id": "gTRRYFippLI0"
      },
      "source": [
        "def create_model():\n",
        "    model = Sequential()\n",
        "\n",
        "    model.add(Dense(CELLS_1a, input_shape = [NR_INPUTS, ], activation='relu'))\n",
        "    model.add(Dropout(DROPOUT))\n",
        "    model.add(Dense(CELLS_2a, activation='relu'))\n",
        "    model.add(Dense(1, activation='sigmoid'))\n",
        "\n",
        "    optimizer = optimizers.Adam(lr=LEARNING_RATE)\n",
        "\n",
        "    model.compile(loss = 'binary_crossentropy', optimizer = optimizer, metrics = ['accuracy'])\n",
        "\n",
        "    model.summary()\n",
        "\n",
        "    return model\n"
      ],
      "execution_count": null,
      "outputs": []
    },
    {
      "cell_type": "code",
      "metadata": {
        "id": "jfYbW-VYpLI0",
        "colab": {
          "base_uri": "https://localhost:8080/"
        },
        "outputId": "c5aa5c28-70e5-4b65-9716-c5f8711d8b92"
      },
      "source": [
        "create_model()\n",
        "history = model.fit(X_train,y_train,\n",
        "                    validation_data = (X_valid, y_valid),\n",
        "                    batch_size = BATCH_SIZE,\n",
        "                    epochs = EPOCHS)\n"
      ],
      "execution_count": null,
      "outputs": [
        {
          "output_type": "stream",
          "text": [
            "Model: \"sequential_2\"\n",
            "_________________________________________________________________\n",
            "Layer (type)                 Output Shape              Param #   \n",
            "=================================================================\n",
            "dense_4 (Dense)              (None, 32)                768       \n",
            "_________________________________________________________________\n",
            "dropout (Dropout)            (None, 32)                0         \n",
            "_________________________________________________________________\n",
            "dense_5 (Dense)              (None, 32)                1056      \n",
            "_________________________________________________________________\n",
            "dense_6 (Dense)              (None, 1)                 33        \n",
            "=================================================================\n",
            "Total params: 1,857\n",
            "Trainable params: 1,857\n",
            "Non-trainable params: 0\n",
            "_________________________________________________________________\n",
            "Epoch 1/50\n",
            "153/153 [==============================] - 0s 2ms/step - loss: 0.4254 - accuracy: 0.8021 - val_loss: 0.4170 - val_accuracy: 0.8067\n",
            "Epoch 2/50\n",
            "153/153 [==============================] - 0s 1ms/step - loss: 0.4235 - accuracy: 0.8031 - val_loss: 0.4128 - val_accuracy: 0.8100\n",
            "Epoch 3/50\n",
            "153/153 [==============================] - 0s 1ms/step - loss: 0.4210 - accuracy: 0.8044 - val_loss: 0.4140 - val_accuracy: 0.8143\n",
            "Epoch 4/50\n",
            "153/153 [==============================] - 0s 1ms/step - loss: 0.4194 - accuracy: 0.8066 - val_loss: 0.4080 - val_accuracy: 0.8140\n",
            "Epoch 5/50\n",
            "153/153 [==============================] - 0s 2ms/step - loss: 0.4144 - accuracy: 0.8071 - val_loss: 0.4069 - val_accuracy: 0.8136\n",
            "Epoch 6/50\n",
            "153/153 [==============================] - 0s 2ms/step - loss: 0.4133 - accuracy: 0.8078 - val_loss: 0.4115 - val_accuracy: 0.8093\n",
            "Epoch 7/50\n",
            "153/153 [==============================] - 0s 1ms/step - loss: 0.4112 - accuracy: 0.8087 - val_loss: 0.4015 - val_accuracy: 0.8173\n",
            "Epoch 8/50\n",
            "153/153 [==============================] - 0s 2ms/step - loss: 0.4092 - accuracy: 0.8103 - val_loss: 0.4030 - val_accuracy: 0.8154\n",
            "Epoch 9/50\n",
            "153/153 [==============================] - 0s 1ms/step - loss: 0.4099 - accuracy: 0.8074 - val_loss: 0.4060 - val_accuracy: 0.8180\n",
            "Epoch 10/50\n",
            "153/153 [==============================] - 0s 1ms/step - loss: 0.4096 - accuracy: 0.8090 - val_loss: 0.3993 - val_accuracy: 0.8163\n",
            "Epoch 11/50\n",
            "153/153 [==============================] - 0s 1ms/step - loss: 0.4071 - accuracy: 0.8097 - val_loss: 0.4022 - val_accuracy: 0.8140\n",
            "Epoch 12/50\n",
            "153/153 [==============================] - 0s 1ms/step - loss: 0.4101 - accuracy: 0.8064 - val_loss: 0.4159 - val_accuracy: 0.8091\n",
            "Epoch 13/50\n",
            "153/153 [==============================] - 0s 1ms/step - loss: 0.4078 - accuracy: 0.8116 - val_loss: 0.3981 - val_accuracy: 0.8182\n",
            "Epoch 14/50\n",
            "153/153 [==============================] - 0s 1ms/step - loss: 0.4046 - accuracy: 0.8112 - val_loss: 0.3951 - val_accuracy: 0.8202\n",
            "Epoch 15/50\n",
            "153/153 [==============================] - 0s 1ms/step - loss: 0.4037 - accuracy: 0.8132 - val_loss: 0.3935 - val_accuracy: 0.8229\n",
            "Epoch 16/50\n",
            "153/153 [==============================] - 0s 1ms/step - loss: 0.4015 - accuracy: 0.8136 - val_loss: 0.3944 - val_accuracy: 0.8193\n",
            "Epoch 17/50\n",
            "153/153 [==============================] - 0s 1ms/step - loss: 0.4036 - accuracy: 0.8107 - val_loss: 0.3967 - val_accuracy: 0.8191\n",
            "Epoch 18/50\n",
            "153/153 [==============================] - 0s 1ms/step - loss: 0.4024 - accuracy: 0.8130 - val_loss: 0.3936 - val_accuracy: 0.8180\n",
            "Epoch 19/50\n",
            "153/153 [==============================] - 0s 1ms/step - loss: 0.4035 - accuracy: 0.8112 - val_loss: 0.3963 - val_accuracy: 0.8173\n",
            "Epoch 20/50\n",
            "153/153 [==============================] - 0s 1ms/step - loss: 0.4041 - accuracy: 0.8121 - val_loss: 0.3939 - val_accuracy: 0.8186\n",
            "Epoch 21/50\n",
            "153/153 [==============================] - 0s 1ms/step - loss: 0.3997 - accuracy: 0.8135 - val_loss: 0.3997 - val_accuracy: 0.8163\n",
            "Epoch 22/50\n",
            "153/153 [==============================] - 0s 1ms/step - loss: 0.4019 - accuracy: 0.8108 - val_loss: 0.3949 - val_accuracy: 0.8222\n",
            "Epoch 23/50\n",
            "153/153 [==============================] - 0s 1ms/step - loss: 0.4002 - accuracy: 0.8128 - val_loss: 0.3929 - val_accuracy: 0.8200\n",
            "Epoch 24/50\n",
            "153/153 [==============================] - 0s 1ms/step - loss: 0.4006 - accuracy: 0.8126 - val_loss: 0.3995 - val_accuracy: 0.8154\n",
            "Epoch 25/50\n",
            "153/153 [==============================] - 0s 1ms/step - loss: 0.4023 - accuracy: 0.8119 - val_loss: 0.3967 - val_accuracy: 0.8188\n",
            "Epoch 26/50\n",
            "153/153 [==============================] - 0s 1ms/step - loss: 0.3996 - accuracy: 0.8136 - val_loss: 0.4055 - val_accuracy: 0.8153\n",
            "Epoch 27/50\n",
            "153/153 [==============================] - 0s 1ms/step - loss: 0.3985 - accuracy: 0.8161 - val_loss: 0.3912 - val_accuracy: 0.8222\n",
            "Epoch 28/50\n",
            "153/153 [==============================] - 0s 1ms/step - loss: 0.3993 - accuracy: 0.8146 - val_loss: 0.3991 - val_accuracy: 0.8148\n",
            "Epoch 29/50\n",
            "153/153 [==============================] - 0s 1ms/step - loss: 0.3995 - accuracy: 0.8137 - val_loss: 0.3915 - val_accuracy: 0.8188\n",
            "Epoch 30/50\n",
            "153/153 [==============================] - 0s 1ms/step - loss: 0.4001 - accuracy: 0.8133 - val_loss: 0.3914 - val_accuracy: 0.8185\n",
            "Epoch 31/50\n",
            "153/153 [==============================] - 0s 1ms/step - loss: 0.3973 - accuracy: 0.8150 - val_loss: 0.3897 - val_accuracy: 0.8225\n",
            "Epoch 32/50\n",
            "153/153 [==============================] - 0s 2ms/step - loss: 0.3987 - accuracy: 0.8150 - val_loss: 0.3925 - val_accuracy: 0.8182\n",
            "Epoch 33/50\n",
            "153/153 [==============================] - 0s 1ms/step - loss: 0.3980 - accuracy: 0.8148 - val_loss: 0.3900 - val_accuracy: 0.8188\n",
            "Epoch 34/50\n",
            "153/153 [==============================] - 0s 1ms/step - loss: 0.3977 - accuracy: 0.8154 - val_loss: 0.3954 - val_accuracy: 0.8173\n",
            "Epoch 35/50\n",
            "153/153 [==============================] - 0s 1ms/step - loss: 0.3985 - accuracy: 0.8131 - val_loss: 0.3929 - val_accuracy: 0.8185\n",
            "Epoch 36/50\n",
            "153/153 [==============================] - 0s 1ms/step - loss: 0.4001 - accuracy: 0.8138 - val_loss: 0.3915 - val_accuracy: 0.8188\n",
            "Epoch 37/50\n",
            "153/153 [==============================] - 0s 1ms/step - loss: 0.3981 - accuracy: 0.8140 - val_loss: 0.3907 - val_accuracy: 0.8203\n",
            "Epoch 38/50\n",
            "153/153 [==============================] - 0s 1ms/step - loss: 0.3979 - accuracy: 0.8144 - val_loss: 0.3908 - val_accuracy: 0.8225\n",
            "Epoch 39/50\n",
            "153/153 [==============================] - 0s 1ms/step - loss: 0.3969 - accuracy: 0.8134 - val_loss: 0.3925 - val_accuracy: 0.8177\n",
            "Epoch 40/50\n",
            "153/153 [==============================] - 0s 1ms/step - loss: 0.3969 - accuracy: 0.8141 - val_loss: 0.3994 - val_accuracy: 0.8168\n",
            "Epoch 41/50\n",
            "153/153 [==============================] - 0s 1ms/step - loss: 0.3980 - accuracy: 0.8147 - val_loss: 0.3978 - val_accuracy: 0.8160\n",
            "Epoch 42/50\n",
            "153/153 [==============================] - 0s 1ms/step - loss: 0.3984 - accuracy: 0.8118 - val_loss: 0.3934 - val_accuracy: 0.8171\n",
            "Epoch 43/50\n",
            "153/153 [==============================] - 0s 1ms/step - loss: 0.3944 - accuracy: 0.8157 - val_loss: 0.3899 - val_accuracy: 0.8209\n",
            "Epoch 44/50\n",
            "153/153 [==============================] - 0s 2ms/step - loss: 0.3955 - accuracy: 0.8156 - val_loss: 0.3892 - val_accuracy: 0.8208\n",
            "Epoch 45/50\n",
            "153/153 [==============================] - 0s 2ms/step - loss: 0.3956 - accuracy: 0.8159 - val_loss: 0.3902 - val_accuracy: 0.8208\n",
            "Epoch 46/50\n",
            "153/153 [==============================] - 0s 2ms/step - loss: 0.3955 - accuracy: 0.8136 - val_loss: 0.3970 - val_accuracy: 0.8162\n",
            "Epoch 47/50\n",
            "153/153 [==============================] - 0s 2ms/step - loss: 0.3959 - accuracy: 0.8130 - val_loss: 0.3912 - val_accuracy: 0.8177\n",
            "Epoch 48/50\n",
            "153/153 [==============================] - 0s 2ms/step - loss: 0.3978 - accuracy: 0.8149 - val_loss: 0.3959 - val_accuracy: 0.8171\n",
            "Epoch 49/50\n",
            "153/153 [==============================] - 0s 2ms/step - loss: 0.3953 - accuracy: 0.8162 - val_loss: 0.3995 - val_accuracy: 0.8140\n",
            "Epoch 50/50\n",
            "153/153 [==============================] - 0s 2ms/step - loss: 0.3946 - accuracy: 0.8148 - val_loss: 0.3913 - val_accuracy: 0.8173\n"
          ],
          "name": "stdout"
        }
      ]
    },
    {
      "cell_type": "code",
      "metadata": {
        "id": "jCYlUos6pLI0",
        "colab": {
          "base_uri": "https://localhost:8080/",
          "height": 321
        },
        "outputId": "778ddc64-1834-40b6-f8d3-fd1bcac88e46"
      },
      "source": [
        "plot_train_valid_history(history)\n",
        "\n",
        "score, acc = model.evaluate(X_test,y_test)\n",
        "\n",
        "print('Test score:', score)\n",
        "print('Test accuracy:', acc)"
      ],
      "execution_count": null,
      "outputs": [
        {
          "output_type": "display_data",
          "data": {
            "image/png": "[encoded data removed]",
            "text/plain": [
              "<Figure size 576x288 with 2 Axes>"
            ]
          },
          "metadata": {
            "tags": [],
            "needs_background": "light"
          }
        },
        {
          "output_type": "stream",
          "text": [
            "204/204 [==============================] - 0s 845us/step - loss: 0.3948 - accuracy: 0.8170\n",
            "Test score: 0.3948282301425934\n",
            "Test accuracy: 0.8169814348220825\n"
          ],
          "name": "stdout"
        }
      ]
    },
    {
      "cell_type": "markdown",
      "metadata": {
        "id": "nIWuvsWlpLI0"
      },
      "source": [
        "## Question 1\n",
        "- How does the model behave. Can you see any overfitting or undergitting problems?\n",
        "- How you can prevent these problems?"
      ]
    },
    {
      "cell_type": "markdown",
      "metadata": {
        "id": "SKQR2h66pLI0"
      },
      "source": [
        "## Task 2\n",
        "Normalize your features. Use StandardScaler from sklearn.preprocessing library. Then train your model on the normalized features. Did it change anything with the behaviour of the model?"
      ]
    },
    {
      "cell_type": "code",
      "metadata": {
        "id": "NhMKzf3kpLI0",
        "colab": {
          "base_uri": "https://localhost:8080/"
        },
        "outputId": "abf487c2-6c9e-488a-da05-6534328170df"
      },
      "source": [
        "from sklearn.preprocessing import StandardScaler\n",
        "# ENTER YOUR CODE HERE\n",
        "scaler = StandardScaler()\n",
        "print(scaler.fit(X_train,y_train))\n",
        "print(scaler.mean_)\n",
        "print(scaler.transform(X_valid))\n",
        "print(scaler.transform(X_test))\n",
        "print(scaler.transform(X_train))"
      ],
      "execution_count": null,
      "outputs": [
        {
          "output_type": "stream",
          "text": [
            "StandardScaler(copy=True, with_mean=True, with_std=True)\n",
            "[3.84841319e+01 1.00914210e+01 4.04701577e+01 6.70147420e-01\n",
            " 5.55384930e-02 2.94840295e-02 6.53153153e-02 7.01167076e-01\n",
            " 3.20945946e-02 7.73443898e-02 3.90561016e-02 8.02620803e-02\n",
            " 1.15786241e-01 1.26945127e-01 1.24129812e-01 3.09684685e-02\n",
            " 4.17690418e-02 6.43939394e-02 9.89967240e-02 1.26330876e-01\n",
            " 1.12459050e-01 2.84090909e-02 4.95495495e-02]\n",
            "[[ 0.18515162  1.9136985  -0.03817781 ... -0.35596148 -0.17099639\n",
            "  -0.22832587]\n",
            " [-0.25640956 -0.42551024 -0.03817781 ... -0.35596148 -0.17099639\n",
            "  -0.22832587]\n",
            " [-0.40359662 -1.98498274 -0.03817781 ... -0.35596148 -0.17099639\n",
            "   4.37970526]\n",
            " ...\n",
            " [-1.21312544 -2.37485087 -0.03817781 ... -0.35596148 -0.17099639\n",
            "  -0.22832587]\n",
            " [-0.55078368  0.354226   -0.03817781 ...  2.80929273 -0.17099639\n",
            "  -0.22832587]\n",
            " [ 0.4059322  -0.03564212  0.77384362 ... -0.35596148 -0.17099639\n",
            "  -0.22832587]]\n",
            "[[ 1.6570222  -0.42551024 -0.03817781 ... -0.35596148 -0.17099639\n",
            "  -0.22832587]\n",
            " [-1.13953191 -0.42551024 -0.03817781 ... -0.35596148 -0.17099639\n",
            "  -0.22832587]\n",
            " [ 2.24577043 -1.59511462 -1.01260353 ... -0.35596148 -0.17099639\n",
            "  -0.22832587]\n",
            " ...\n",
            " [ 0.77389985 -2.76471899 -0.03817781 ... -0.35596148 -0.17099639\n",
            "  -0.22832587]\n",
            " [ 0.25874514 -0.42551024 -0.03817781 ... -0.35596148 -0.17099639\n",
            "  -0.22832587]\n",
            " [-1.13953191 -1.59511462  1.58586505 ... -0.35596148 -0.17099639\n",
            "  -0.22832587]]\n",
            "[[-1.06593838  1.13396225  0.77384362 ... -0.35596148 -0.17099639\n",
            "  -0.22832587]\n",
            " [ 0.47952573  0.74409413 -0.03817781 ... -0.35596148 -0.17099639\n",
            "  -0.22832587]\n",
            " [ 0.47952573 -0.42551024 -0.03817781 ... -0.35596148 -0.17099639\n",
            "  -0.22832587]\n",
            " ...\n",
            " [-0.69797073  0.74409413 -0.03817781 ... -0.35596148 -0.17099639\n",
            "  -0.22832587]\n",
            " [-0.55078368  1.52383038  2.88509934 ...  2.80929273 -0.17099639\n",
            "  -0.22832587]\n",
            " [ 0.99468044 -0.42551024 -0.03817781 ... -0.35596148 -0.17099639\n",
            "  -0.22832587]]\n"
          ],
          "name": "stdout"
        }
      ]
    },
    {
      "cell_type": "code",
      "metadata": {
        "id": "NRPPhaulpLI0",
        "colab": {
          "base_uri": "https://localhost:8080/"
        },
        "outputId": "9fb52644-0f70-410c-916f-26656ef7c5df"
      },
      "source": [
        "# Create and train the model\n",
        "# ENTER YOUR CODE HERE\n",
        "\n",
        "create_model()\n",
        "history = model.fit(X_train,y_train,\n",
        "                    validation_data = (X_valid, y_valid),\n",
        "                    batch_size = BATCH_SIZE,\n",
        "                    epochs = EPOCHS)"
      ],
      "execution_count": null,
      "outputs": [
        {
          "output_type": "stream",
          "text": [
            "Model: \"sequential_3\"\n",
            "_________________________________________________________________\n",
            "Layer (type)                 Output Shape              Param #   \n",
            "=================================================================\n",
            "dense_7 (Dense)              (None, 32)                768       \n",
            "_________________________________________________________________\n",
            "dropout_1 (Dropout)          (None, 32)                0         \n",
            "_________________________________________________________________\n",
            "dense_8 (Dense)              (None, 32)                1056      \n",
            "_________________________________________________________________\n",
            "dense_9 (Dense)              (None, 1)                 33        \n",
            "=================================================================\n",
            "Total params: 1,857\n",
            "Trainable params: 1,857\n",
            "Non-trainable params: 0\n",
            "_________________________________________________________________\n",
            "Epoch 1/50\n",
            "153/153 [==============================] - 0s 2ms/step - loss: 0.3959 - accuracy: 0.8158 - val_loss: 0.3899 - val_accuracy: 0.8200\n",
            "Epoch 2/50\n",
            "153/153 [==============================] - 0s 1ms/step - loss: 0.3960 - accuracy: 0.8134 - val_loss: 0.3890 - val_accuracy: 0.8188\n",
            "Epoch 3/50\n",
            "153/153 [==============================] - 0s 1ms/step - loss: 0.3936 - accuracy: 0.8173 - val_loss: 0.3890 - val_accuracy: 0.8196\n",
            "Epoch 4/50\n",
            "153/153 [==============================] - 0s 1ms/step - loss: 0.3946 - accuracy: 0.8164 - val_loss: 0.3899 - val_accuracy: 0.8202\n",
            "Epoch 5/50\n",
            "153/153 [==============================] - 0s 1ms/step - loss: 0.3945 - accuracy: 0.8171 - val_loss: 0.3977 - val_accuracy: 0.8142\n",
            "Epoch 6/50\n",
            "153/153 [==============================] - 0s 1ms/step - loss: 0.3969 - accuracy: 0.8139 - val_loss: 0.3927 - val_accuracy: 0.8202\n",
            "Epoch 7/50\n",
            "153/153 [==============================] - 0s 1ms/step - loss: 0.3964 - accuracy: 0.8150 - val_loss: 0.3972 - val_accuracy: 0.8139\n",
            "Epoch 8/50\n",
            "153/153 [==============================] - 0s 2ms/step - loss: 0.3940 - accuracy: 0.8173 - val_loss: 0.3930 - val_accuracy: 0.8188\n",
            "Epoch 9/50\n",
            "153/153 [==============================] - 0s 1ms/step - loss: 0.3942 - accuracy: 0.8174 - val_loss: 0.3938 - val_accuracy: 0.8171\n",
            "Epoch 10/50\n",
            "153/153 [==============================] - 0s 2ms/step - loss: 0.3962 - accuracy: 0.8143 - val_loss: 0.3894 - val_accuracy: 0.8200\n",
            "Epoch 11/50\n",
            "153/153 [==============================] - 0s 2ms/step - loss: 0.3940 - accuracy: 0.8161 - val_loss: 0.3934 - val_accuracy: 0.8160\n",
            "Epoch 12/50\n",
            "153/153 [==============================] - 0s 2ms/step - loss: 0.3952 - accuracy: 0.8162 - val_loss: 0.3891 - val_accuracy: 0.8209\n",
            "Epoch 13/50\n",
            "153/153 [==============================] - 0s 2ms/step - loss: 0.3965 - accuracy: 0.8136 - val_loss: 0.3974 - val_accuracy: 0.8188\n",
            "Epoch 14/50\n",
            "153/153 [==============================] - 0s 1ms/step - loss: 0.3956 - accuracy: 0.8161 - val_loss: 0.3915 - val_accuracy: 0.8203\n",
            "Epoch 15/50\n",
            "153/153 [==============================] - 0s 1ms/step - loss: 0.3938 - accuracy: 0.8149 - val_loss: 0.4007 - val_accuracy: 0.8108\n",
            "Epoch 16/50\n",
            "153/153 [==============================] - 0s 1ms/step - loss: 0.3934 - accuracy: 0.8158 - val_loss: 0.3986 - val_accuracy: 0.8196\n",
            "Epoch 17/50\n",
            "153/153 [==============================] - 0s 1ms/step - loss: 0.3937 - accuracy: 0.8174 - val_loss: 0.3949 - val_accuracy: 0.8191\n",
            "Epoch 18/50\n",
            "153/153 [==============================] - 0s 1ms/step - loss: 0.3954 - accuracy: 0.8156 - val_loss: 0.3900 - val_accuracy: 0.8189\n",
            "Epoch 19/50\n",
            "153/153 [==============================] - 0s 1ms/step - loss: 0.3961 - accuracy: 0.8127 - val_loss: 0.4018 - val_accuracy: 0.8145\n",
            "Epoch 20/50\n",
            "153/153 [==============================] - 0s 1ms/step - loss: 0.3941 - accuracy: 0.8156 - val_loss: 0.3899 - val_accuracy: 0.8205\n",
            "Epoch 21/50\n",
            "153/153 [==============================] - 0s 1ms/step - loss: 0.3935 - accuracy: 0.8160 - val_loss: 0.3976 - val_accuracy: 0.8137\n",
            "Epoch 22/50\n",
            "153/153 [==============================] - 0s 1ms/step - loss: 0.3931 - accuracy: 0.8167 - val_loss: 0.3900 - val_accuracy: 0.8206\n",
            "Epoch 23/50\n",
            "153/153 [==============================] - 0s 1ms/step - loss: 0.3955 - accuracy: 0.8149 - val_loss: 0.3917 - val_accuracy: 0.8185\n",
            "Epoch 24/50\n",
            "153/153 [==============================] - 0s 2ms/step - loss: 0.3923 - accuracy: 0.8183 - val_loss: 0.3898 - val_accuracy: 0.8199\n",
            "Epoch 25/50\n",
            "153/153 [==============================] - 0s 1ms/step - loss: 0.3924 - accuracy: 0.8168 - val_loss: 0.4021 - val_accuracy: 0.8168\n",
            "Epoch 26/50\n",
            "153/153 [==============================] - 0s 1ms/step - loss: 0.3912 - accuracy: 0.8180 - val_loss: 0.3902 - val_accuracy: 0.8208\n",
            "Epoch 27/50\n",
            "153/153 [==============================] - 0s 1ms/step - loss: 0.3920 - accuracy: 0.8171 - val_loss: 0.3990 - val_accuracy: 0.8171\n",
            "Epoch 28/50\n",
            "153/153 [==============================] - 0s 1ms/step - loss: 0.3949 - accuracy: 0.8150 - val_loss: 0.4005 - val_accuracy: 0.8148\n",
            "Epoch 29/50\n",
            "153/153 [==============================] - 0s 1ms/step - loss: 0.3948 - accuracy: 0.8158 - val_loss: 0.4002 - val_accuracy: 0.8130\n",
            "Epoch 30/50\n",
            "153/153 [==============================] - 0s 1ms/step - loss: 0.3919 - accuracy: 0.8184 - val_loss: 0.3995 - val_accuracy: 0.8174\n",
            "Epoch 31/50\n",
            "153/153 [==============================] - 0s 1ms/step - loss: 0.3929 - accuracy: 0.8161 - val_loss: 0.3951 - val_accuracy: 0.8143\n",
            "Epoch 32/50\n",
            "153/153 [==============================] - 0s 1ms/step - loss: 0.3911 - accuracy: 0.8185 - val_loss: 0.3884 - val_accuracy: 0.8214\n",
            "Epoch 33/50\n",
            "153/153 [==============================] - 0s 1ms/step - loss: 0.3915 - accuracy: 0.8161 - val_loss: 0.3906 - val_accuracy: 0.8219\n",
            "Epoch 34/50\n",
            "153/153 [==============================] - 0s 1ms/step - loss: 0.3922 - accuracy: 0.8182 - val_loss: 0.3972 - val_accuracy: 0.8176\n",
            "Epoch 35/50\n",
            "153/153 [==============================] - 0s 1ms/step - loss: 0.3931 - accuracy: 0.8177 - val_loss: 0.3941 - val_accuracy: 0.8182\n",
            "Epoch 36/50\n",
            "153/153 [==============================] - 0s 1ms/step - loss: 0.3921 - accuracy: 0.8167 - val_loss: 0.3885 - val_accuracy: 0.8183\n",
            "Epoch 37/50\n",
            "153/153 [==============================] - 0s 2ms/step - loss: 0.3910 - accuracy: 0.8177 - val_loss: 0.3918 - val_accuracy: 0.8186\n",
            "Epoch 38/50\n",
            "153/153 [==============================] - 0s 2ms/step - loss: 0.3939 - accuracy: 0.8146 - val_loss: 0.3936 - val_accuracy: 0.8205\n",
            "Epoch 39/50\n",
            "153/153 [==============================] - 0s 1ms/step - loss: 0.3918 - accuracy: 0.8176 - val_loss: 0.4071 - val_accuracy: 0.8128\n",
            "Epoch 40/50\n",
            "153/153 [==============================] - 0s 1ms/step - loss: 0.3919 - accuracy: 0.8180 - val_loss: 0.3917 - val_accuracy: 0.8194\n",
            "Epoch 41/50\n",
            "153/153 [==============================] - 0s 1ms/step - loss: 0.3920 - accuracy: 0.8160 - val_loss: 0.3905 - val_accuracy: 0.8200\n",
            "Epoch 42/50\n",
            "153/153 [==============================] - 0s 2ms/step - loss: 0.3920 - accuracy: 0.8171 - val_loss: 0.3898 - val_accuracy: 0.8188\n",
            "Epoch 43/50\n",
            "153/153 [==============================] - 0s 1ms/step - loss: 0.3922 - accuracy: 0.8178 - val_loss: 0.3929 - val_accuracy: 0.8173\n",
            "Epoch 44/50\n",
            "153/153 [==============================] - 0s 1ms/step - loss: 0.3913 - accuracy: 0.8178 - val_loss: 0.3892 - val_accuracy: 0.8229\n",
            "Epoch 45/50\n",
            "153/153 [==============================] - 0s 1ms/step - loss: 0.3912 - accuracy: 0.8193 - val_loss: 0.3913 - val_accuracy: 0.8163\n",
            "Epoch 46/50\n",
            "153/153 [==============================] - 0s 1ms/step - loss: 0.3934 - accuracy: 0.8175 - val_loss: 0.3885 - val_accuracy: 0.8211\n",
            "Epoch 47/50\n",
            "153/153 [==============================] - 0s 1ms/step - loss: 0.3916 - accuracy: 0.8170 - val_loss: 0.3888 - val_accuracy: 0.8199\n",
            "Epoch 48/50\n",
            "153/153 [==============================] - 0s 2ms/step - loss: 0.3908 - accuracy: 0.8195 - val_loss: 0.3903 - val_accuracy: 0.8197\n",
            "Epoch 49/50\n",
            "153/153 [==============================] - 0s 1ms/step - loss: 0.3913 - accuracy: 0.8175 - val_loss: 0.3991 - val_accuracy: 0.8131\n",
            "Epoch 50/50\n",
            "153/153 [==============================] - 0s 1ms/step - loss: 0.3924 - accuracy: 0.8156 - val_loss: 0.3887 - val_accuracy: 0.8222\n"
          ],
          "name": "stdout"
        }
      ]
    },
    {
      "cell_type": "code",
      "metadata": {
        "id": "xyxxgAEnpLI1"
      },
      "source": [
        ""
      ],
      "execution_count": null,
      "outputs": []
    },
    {
      "cell_type": "code",
      "metadata": {
        "id": "bInGdaflpLI1",
        "colab": {
          "base_uri": "https://localhost:8080/",
          "height": 321
        },
        "outputId": "ae4339f5-83f3-4c1d-a468-cfdeb85bbb93"
      },
      "source": [
        "plot_train_valid_history(history)\n",
        "\n",
        "score, acc = model.evaluate(X_test,y_test)\n",
        "\n",
        "print('Test score:', score)\n",
        "print('Test accuracy:', acc)"
      ],
      "execution_count": null,
      "outputs": [
        {
          "output_type": "display_data",
          "data": {
            "image/png": "[encoded data removed]",
            "text/plain": [
              "<Figure size 576x288 with 2 Axes>"
            ]
          },
          "metadata": {
            "tags": [],
            "needs_background": "light"
          }
        },
        {
          "output_type": "stream",
          "text": [
            "204/204 [==============================] - 0s 722us/step - loss: 0.3931 - accuracy: 0.8182\n",
            "Test score: 0.39313387870788574\n",
            "Test accuracy: 0.818209707736969\n"
          ],
          "name": "stdout"
        }
      ]
    },
    {
      "cell_type": "code",
      "metadata": {
        "id": "z3rIQ21jpLI1"
      },
      "source": [
        ""
      ],
      "execution_count": null,
      "outputs": []
    }
  ]
}