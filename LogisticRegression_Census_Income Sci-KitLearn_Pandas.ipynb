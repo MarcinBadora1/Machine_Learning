{
  "nbformat": 4,
  "nbformat_minor": 0,
  "metadata": {
    "kernelspec": {
      "display_name": "Python 3",
      "language": "python",
      "name": "python3"
    },
    "language_info": {
      "codemirror_mode": {
        "name": "ipython",
        "version": 3
      },
      "file_extension": ".py",
      "mimetype": "text/x-python",
      "name": "python",
      "nbconvert_exporter": "python",
      "pygments_lexer": "ipython3",
      "version": "3.7.6"
    },
    "colab": {
      "name": "Kopia notatnika Logistic reg",
      "provenance": [],
      "collapsed_sections": [],
      "include_colab_link": true
    }
  },
  "cells": [
    {
      "cell_type": "markdown",
      "metadata": {
        "id": "view-in-github",
        "colab_type": "text"
      },
      "source": [
        "<a href=\"https://colab.research.google.com/github/MarcinBadora1/Machine_Learning/blob/main/LogisticRegression_Census_Income%20Sci-KitLearn_Pandas.ipynb\" target=\"_parent\"><img src=\"https://colab.research.google.com/assets/colab-badge.svg\" alt=\"Open In Colab\"/></a>"
      ]
    },
    {
      "cell_type": "markdown",
      "metadata": {
        "id": "PdBaOVLmPMSI"
      },
      "source": [
        "# Census Income\n",
        "This is a Sci-Kit Learn + Pandas example of classification problem. The dataset comes from http://archive.ics.uci.edu/. \n",
        "\n",
        "Data extraction was done by Barry Becker from the 1994 Census database. A set of reasonably clean records was extracted using the following conditions: ((AAGE>16) && (AGI>100) && (AFNLWGT>1)&& (HRSWK>0)). The data was also preprocessed for the purpose of this example.\n",
        "\n",
        "Prediction task is to determine whether a person makes over 50K a year.\n",
        "\n",
        "\n",
        "### List of attributes:\n",
        "\n",
        "##### Features\n",
        "- age: continuous. \n",
        "- workclass: Private, Self-emp-not-inc, Self-emp-inc, Federal-gov, Local-gov, State-gov, Without-pay, Never-worked. \n",
        "- education: Bachelors, Some-college, 11th, HS-grad, Prof-school, Assoc-acdm, Assoc-voc, 9th, 7th-8th, 12th, Masters, 1st-4th, - 10th, Doctorate, 5th-6th, Preschool. \n",
        "- education-num: continuous. \n",
        "- marital-status: Married-civ-spouse, Divorced, Never-married, Separated, Widowed, Married-spouse-absent, Married-AF-spouse. \n",
        "- occupation: Tech-support, Craft-repair, Other-service, Sales, Exec-managerial, Prof-specialty, Handlers-cleaners, Machine-op-inspct, Adm-clerical, Farming-fishing, Transport-moving, Priv-house-serv, Protective-serv, Armed-Forces. \n",
        "- relationship: Wife, Own-child, Husband, Not-in-family, Other-relative, Unmarried. \n",
        "- race: White, Asian-Pac-Islander, Amer-Indian-Eskimo, Other, Black. \n",
        "- sex: Female, Male. \n",
        "- hours-per-week: continuous. \n",
        "- native-country: United-States, Cambodia, England, Puerto-Rico, Canada, Germany, Outlying-US(Guam-USVI-etc), India, Japan, Greece, South, China, Cuba, Iran, Honduras, Philippines, Italy, Poland, Jamaica, Vietnam, Mexico, Portugal, Ireland, France, Dominican-Republic, Laos, Ecuador, Taiwan, Haiti, Columbia, Hungary, Guatemala, Nicaragua, Scotland, Thailand, Yugoslavia, El-Salvador, Trinadad&Tobago, Peru, Hong, Holand-Netherlands.\n",
        "\n",
        "\n",
        "\n",
        "##### Labels\n",
        "- income - >50K, <=50K. "
      ]
    },
    {
      "cell_type": "code",
      "metadata": {
        "id": "qlW8dtMBPMSU"
      },
      "source": [
        "import pandas as pd\n",
        "import numpy as np\n",
        "\n",
        "import matplotlib.pyplot as plt"
      ],
      "execution_count": null,
      "outputs": []
    },
    {
      "cell_type": "code",
      "metadata": {
        "id": "DGrZrW7iPMSl",
        "colab": {
          "base_uri": "https://localhost:8080/"
        },
        "outputId": "79560fa1-c229-495e-9009-13f982a5a425"
      },
      "source": [
        "# Uncomment this if you are using Google Colab\n",
        "!wget https://raw.githubusercontent.com/PrzemekSekula/DeepLearningClasses1/master/LogisticRegressionCensus/census.csv"
      ],
      "execution_count": null,
      "outputs": [
        {
          "output_type": "stream",
          "text": [
            "--2020-11-18 06:01:39--  https://raw.githubusercontent.com/PrzemekSekula/DeepLearningClasses1/master/LogisticRegressionCensus/census.csv\n",
            "Resolving raw.githubusercontent.com (raw.githubusercontent.com)... 151.101.0.133, 151.101.64.133, 151.101.128.133, ...\n",
            "Connecting to raw.githubusercontent.com (raw.githubusercontent.com)|151.101.0.133|:443... connected.\n",
            "HTTP request sent, awaiting response... 200 OK\n",
            "Length: 3152687 (3.0M) [text/plain]\n",
            "Saving to: ‘census.csv’\n",
            "\n",
            "census.csv          100%[===================>]   3.01M  --.-KB/s    in 0.1s    \n",
            "\n",
            "2020-11-18 06:01:39 (30.5 MB/s) - ‘census.csv’ saved [3152687/3152687]\n",
            "\n"
          ],
          "name": "stdout"
        }
      ]
    },
    {
      "cell_type": "markdown",
      "metadata": {
        "id": "_-FC6M4NPMS6"
      },
      "source": [
        "### Load dataset"
      ]
    },
    {
      "cell_type": "code",
      "metadata": {
        "id": "N3wdnG4vPMS8",
        "colab": {
          "base_uri": "https://localhost:8080/",
          "height": 289
        },
        "outputId": "9cb1d7ee-7929-472d-fb9f-308a6be869c2"
      },
      "source": [
        "df = pd.read_csv(\"https://raw.githubusercontent.com/PrzemekSekula/DeepLearningClasses1/master/LogisticRegressionCensus/census.csv\")\n",
        "\n",
        "print (df.shape)\n",
        "print (df.columns)\n",
        "df.head()"
      ],
      "execution_count": null,
      "outputs": [
        {
          "output_type": "stream",
          "text": [
            "(32561, 12)\n",
            "Index(['age', 'workclass', 'education', 'education-num', 'marital-status',\n",
            "       'occupation', 'relationship', 'race', 'sex', 'hours-per-week',\n",
            "       'native-country', 'income'],\n",
            "      dtype='object')\n"
          ],
          "name": "stdout"
        },
        {
          "output_type": "execute_result",
          "data": {
            "text/html": [
              "<div>\n",
              "<style scoped>\n",
              "    .dataframe tbody tr th:only-of-type {\n",
              "        vertical-align: middle;\n",
              "    }\n",
              "\n",
              "    .dataframe tbody tr th {\n",
              "        vertical-align: top;\n",
              "    }\n",
              "\n",
              "    .dataframe thead th {\n",
              "        text-align: right;\n",
              "    }\n",
              "</style>\n",
              "<table border=\"1\" class=\"dataframe\">\n",
              "  <thead>\n",
              "    <tr style=\"text-align: right;\">\n",
              "      <th></th>\n",
              "      <th>age</th>\n",
              "      <th>workclass</th>\n",
              "      <th>education</th>\n",
              "      <th>education-num</th>\n",
              "      <th>marital-status</th>\n",
              "      <th>occupation</th>\n",
              "      <th>relationship</th>\n",
              "      <th>race</th>\n",
              "      <th>sex</th>\n",
              "      <th>hours-per-week</th>\n",
              "      <th>native-country</th>\n",
              "      <th>income</th>\n",
              "    </tr>\n",
              "  </thead>\n",
              "  <tbody>\n",
              "    <tr>\n",
              "      <th>0</th>\n",
              "      <td>39</td>\n",
              "      <td>State-gov</td>\n",
              "      <td>Bachelors</td>\n",
              "      <td>13</td>\n",
              "      <td>Never-married</td>\n",
              "      <td>Adm-clerical</td>\n",
              "      <td>Not-in-family</td>\n",
              "      <td>White</td>\n",
              "      <td>Male</td>\n",
              "      <td>40</td>\n",
              "      <td>United-States</td>\n",
              "      <td>&lt;=50K</td>\n",
              "    </tr>\n",
              "    <tr>\n",
              "      <th>1</th>\n",
              "      <td>50</td>\n",
              "      <td>Self-emp-not-inc</td>\n",
              "      <td>Bachelors</td>\n",
              "      <td>13</td>\n",
              "      <td>Married-civ-spouse</td>\n",
              "      <td>Exec-managerial</td>\n",
              "      <td>Husband</td>\n",
              "      <td>White</td>\n",
              "      <td>Male</td>\n",
              "      <td>13</td>\n",
              "      <td>United-States</td>\n",
              "      <td>&lt;=50K</td>\n",
              "    </tr>\n",
              "    <tr>\n",
              "      <th>2</th>\n",
              "      <td>38</td>\n",
              "      <td>Private</td>\n",
              "      <td>HS-grad</td>\n",
              "      <td>9</td>\n",
              "      <td>Divorced</td>\n",
              "      <td>Handlers-cleaners</td>\n",
              "      <td>Not-in-family</td>\n",
              "      <td>White</td>\n",
              "      <td>Male</td>\n",
              "      <td>40</td>\n",
              "      <td>United-States</td>\n",
              "      <td>&lt;=50K</td>\n",
              "    </tr>\n",
              "    <tr>\n",
              "      <th>3</th>\n",
              "      <td>53</td>\n",
              "      <td>Private</td>\n",
              "      <td>11th</td>\n",
              "      <td>7</td>\n",
              "      <td>Married-civ-spouse</td>\n",
              "      <td>Handlers-cleaners</td>\n",
              "      <td>Husband</td>\n",
              "      <td>Black</td>\n",
              "      <td>Male</td>\n",
              "      <td>40</td>\n",
              "      <td>United-States</td>\n",
              "      <td>&lt;=50K</td>\n",
              "    </tr>\n",
              "    <tr>\n",
              "      <th>4</th>\n",
              "      <td>28</td>\n",
              "      <td>Private</td>\n",
              "      <td>Bachelors</td>\n",
              "      <td>13</td>\n",
              "      <td>Married-civ-spouse</td>\n",
              "      <td>Prof-specialty</td>\n",
              "      <td>Wife</td>\n",
              "      <td>Black</td>\n",
              "      <td>Female</td>\n",
              "      <td>40</td>\n",
              "      <td>Cuba</td>\n",
              "      <td>&lt;=50K</td>\n",
              "    </tr>\n",
              "  </tbody>\n",
              "</table>\n",
              "</div>"
            ],
            "text/plain": [
              "   age         workclass  education  ...  hours-per-week native-country income\n",
              "0   39         State-gov  Bachelors  ...              40  United-States  <=50K\n",
              "1   50  Self-emp-not-inc  Bachelors  ...              13  United-States  <=50K\n",
              "2   38           Private    HS-grad  ...              40  United-States  <=50K\n",
              "3   53           Private       11th  ...              40  United-States  <=50K\n",
              "4   28           Private  Bachelors  ...              40           Cuba  <=50K\n",
              "\n",
              "[5 rows x 12 columns]"
            ]
          },
          "metadata": {
            "tags": []
          },
          "execution_count": 2
        }
      ]
    },
    {
      "cell_type": "markdown",
      "metadata": {
        "id": "ffq6uMkcPMTG"
      },
      "source": [
        "## Task 1 - Initial analysis\n",
        "Perform initial analysis to understand the data."
      ]
    },
    {
      "cell_type": "code",
      "metadata": {
        "id": "OH3hv0tcPMTH",
        "colab": {
          "base_uri": "https://localhost:8080/"
        },
        "outputId": "5abcdace-512a-46a4-9864-be1595582b2d"
      },
      "source": [
        "df.shape\n",
        "#df.isnull()\n",
        "df.isnull().sum()"
      ],
      "execution_count": null,
      "outputs": [
        {
          "output_type": "execute_result",
          "data": {
            "text/plain": [
              "age               0\n",
              "workclass         0\n",
              "education         0\n",
              "education-num     0\n",
              "marital-status    0\n",
              "occupation        0\n",
              "relationship      0\n",
              "race              0\n",
              "sex               0\n",
              "hours-per-week    0\n",
              "native-country    0\n",
              "income            0\n",
              "dtype: int64"
            ]
          },
          "metadata": {
            "tags": []
          },
          "execution_count": 3
        }
      ]
    },
    {
      "cell_type": "code",
      "metadata": {
        "id": "VzGCSF39V6tx",
        "colab": {
          "base_uri": "https://localhost:8080/",
          "height": 486
        },
        "outputId": "5abcd3b5-19dd-43d8-f520-26686ab279d0"
      },
      "source": [
        "df.workclass.value_counts()\n",
        "df.workclass = df.workclass.replace('?', 0)\n",
        "df.workclass = df.workclass.replace('Without-pay', 0)\n",
        "df.workclass = df.workclass.replace('Never-worked', 0)\n",
        "#df.workclass.value_counts().plot().hist\n",
        "plt.pie(df.workclass.value_counts(),labels=df.workclass.value_counts().tolist())"
      ],
      "execution_count": null,
      "outputs": [
        {
          "output_type": "execute_result",
          "data": {
            "text/plain": [
              "([<matplotlib.patches.Wedge at 0x7ff149674e48>,\n",
              "  <matplotlib.patches.Wedge at 0x7ff149603438>,\n",
              "  <matplotlib.patches.Wedge at 0x7ff1496039b0>,\n",
              "  <matplotlib.patches.Wedge at 0x7ff149603f28>,\n",
              "  <matplotlib.patches.Wedge at 0x7ff1496114e0>,\n",
              "  <matplotlib.patches.Wedge at 0x7ff149611a58>,\n",
              "  <matplotlib.patches.Wedge at 0x7ff149611fd0>],\n",
              " [Text(-0.6382328657960867, 0.8959122775237063, '22696'),\n",
              "  Text(-0.09629718640575076, -1.095776825768065, '2541'),\n",
              "  Text(0.3869338344503945, -1.029700057180495, '2093'),\n",
              "  Text(0.7421694823654204, -0.8119017547988452, '1857'),\n",
              "  Text(0.9513962042040199, -0.5521279404505653, '1298'),\n",
              "  Text(1.0531442459487788, -0.31762745036438267, '1116'),\n",
              "  Text(1.0952848128257795, -0.10174074303442723, '960')])"
            ]
          },
          "metadata": {
            "tags": []
          },
          "execution_count": 4
        },
        {
          "output_type": "display_data",
          "data": {
            "image/png": "[encoded data removed]",
            "text/plain": [
              "<Figure size 432x288 with 1 Axes>"
            ]
          },
          "metadata": {
            "tags": []
          }
        }
      ]
    },
    {
      "cell_type": "code",
      "metadata": {
        "id": "VC6vTXcbe9o9",
        "colab": {
          "base_uri": "https://localhost:8080/"
        },
        "outputId": "17be3ebf-9386-44ba-bdca-3b7dced71932"
      },
      "source": [
        "df.education.value_counts()"
      ],
      "execution_count": null,
      "outputs": [
        {
          "output_type": "execute_result",
          "data": {
            "text/plain": [
              "HS-grad         10501\n",
              "Some-college     7291\n",
              "Bachelors        5355\n",
              "Masters          1723\n",
              "Assoc-voc        1382\n",
              "11th             1175\n",
              "Assoc-acdm       1067\n",
              "10th              933\n",
              "7th-8th           646\n",
              "Prof-school       576\n",
              "9th               514\n",
              "12th              433\n",
              "Doctorate         413\n",
              "5th-6th           333\n",
              "1st-4th           168\n",
              "Preschool          51\n",
              "Name: education, dtype: int64"
            ]
          },
          "metadata": {
            "tags": []
          },
          "execution_count": 5
        }
      ]
    },
    {
      "cell_type": "code",
      "metadata": {
        "id": "lu62C4oSfJw0",
        "colab": {
          "base_uri": "https://localhost:8080/"
        },
        "outputId": "43b2795b-30ad-4883-8655-1136ca43bc99"
      },
      "source": [
        "df['education-num'].isnull().sum()"
      ],
      "execution_count": null,
      "outputs": [
        {
          "output_type": "execute_result",
          "data": {
            "text/plain": [
              "0"
            ]
          },
          "metadata": {
            "tags": []
          },
          "execution_count": 6
        }
      ]
    },
    {
      "cell_type": "code",
      "metadata": {
        "id": "NX4iyCwCf8TN",
        "colab": {
          "base_uri": "https://localhost:8080/"
        },
        "outputId": "8ae91ab6-e803-4163-9c16-349e29921131"
      },
      "source": [
        "df['marital-status'].value_counts()"
      ],
      "execution_count": null,
      "outputs": [
        {
          "output_type": "execute_result",
          "data": {
            "text/plain": [
              "Married-civ-spouse       14976\n",
              "Never-married            10683\n",
              "Divorced                  4443\n",
              "Separated                 1025\n",
              "Widowed                    993\n",
              "Married-spouse-absent      418\n",
              "Married-AF-spouse           23\n",
              "Name: marital-status, dtype: int64"
            ]
          },
          "metadata": {
            "tags": []
          },
          "execution_count": 7
        }
      ]
    },
    {
      "cell_type": "code",
      "metadata": {
        "id": "nbLPWzqngRkq",
        "colab": {
          "base_uri": "https://localhost:8080/"
        },
        "outputId": "cb8038ff-f29b-45c5-a8f3-cb248bbe367e"
      },
      "source": [
        "df.relationship.value_counts()\n",
        "#ownchild = brak informacji  \n",
        "#df.relationship = df.relationship.replace('Own-child', 0)"
      ],
      "execution_count": null,
      "outputs": [
        {
          "output_type": "execute_result",
          "data": {
            "text/plain": [
              "Husband           13193\n",
              "Not-in-family      8305\n",
              "Own-child          5068\n",
              "Unmarried          3446\n",
              "Wife               1568\n",
              "Other-relative      981\n",
              "Name: relationship, dtype: int64"
            ]
          },
          "metadata": {
            "tags": []
          },
          "execution_count": 8
        }
      ]
    },
    {
      "cell_type": "code",
      "metadata": {
        "id": "LQuJGdp6gzHF",
        "colab": {
          "base_uri": "https://localhost:8080/",
          "height": 372
        },
        "outputId": "8a5ce199-517a-41bd-aae1-d5ecbbbacff8"
      },
      "source": [
        "df.race.value_counts().plot(kind='bar')\n"
      ],
      "execution_count": null,
      "outputs": [
        {
          "output_type": "execute_result",
          "data": {
            "text/plain": [
              "<matplotlib.axes._subplots.AxesSubplot at 0x7fe57fb5a128>"
            ]
          },
          "metadata": {
            "tags": []
          },
          "execution_count": 9
        },
        {
          "output_type": "display_data",
          "data": {
            "image/png": "[encoded data removed]",
            "text/plain": [
              "<Figure size 432x288 with 1 Axes>"
            ]
          },
          "metadata": {
            "tags": [],
            "needs_background": "light"
          }
        }
      ]
    },
    {
      "cell_type": "code",
      "metadata": {
        "id": "TNYr6tN2hF-j",
        "colab": {
          "base_uri": "https://localhost:8080/"
        },
        "outputId": "e7b17271-e6ff-411e-8be6-e8ee123ebe37"
      },
      "source": [
        "df.sex.value_counts() #na tej podstawie stratify = y"
      ],
      "execution_count": null,
      "outputs": [
        {
          "output_type": "execute_result",
          "data": {
            "text/plain": [
              "Male      21790\n",
              "Female    10771\n",
              "Name: sex, dtype: int64"
            ]
          },
          "metadata": {
            "tags": []
          },
          "execution_count": 10
        }
      ]
    },
    {
      "cell_type": "code",
      "metadata": {
        "id": "eY2MTSgXht8U",
        "colab": {
          "base_uri": "https://localhost:8080/",
          "height": 282
        },
        "outputId": "1836e4a9-5921-4d45-8ba5-96b8669e53a7"
      },
      "source": [
        "ax = sns.boxplot(data=df['hours-per-week'])\n",
        "np.average(df['hours-per-week'])\n",
        "#np.min(df['hours-per-week'])\n",
        "#np.max(df['hours-per-week'])\n",
        "#np.median(df['hours-per-week'])\n",
        "#np.quantile(df['hours-per-week'],0.25)\n",
        "#np.quantile(df['hours-per-week'],0.75)"
      ],
      "execution_count": null,
      "outputs": [
        {
          "output_type": "execute_result",
          "data": {
            "text/plain": [
              "40.437455852092995"
            ]
          },
          "metadata": {
            "tags": []
          },
          "execution_count": 20
        },
        {
          "output_type": "display_data",
          "data": {
            "image/png": "[encoded data removed]",
            "text/plain": [
              "<Figure size 432x288 with 1 Axes>"
            ]
          },
          "metadata": {
            "tags": [],
            "needs_background": "light"
          }
        }
      ]
    },
    {
      "cell_type": "code",
      "metadata": {
        "id": "wQcYXm3mkNh6",
        "colab": {
          "base_uri": "https://localhost:8080/"
        },
        "outputId": "cc7e0be0-0145-4972-cd44-32f554f4c495"
      },
      "source": [
        "df['native-country'].value_counts()"
      ],
      "execution_count": null,
      "outputs": [
        {
          "output_type": "execute_result",
          "data": {
            "text/plain": [
              "United-States                 29170\n",
              "Mexico                          643\n",
              "?                               583\n",
              "Philippines                     198\n",
              "Germany                         137\n",
              "Canada                          121\n",
              "Puerto-Rico                     114\n",
              "El-Salvador                     106\n",
              "India                           100\n",
              "Cuba                             95\n",
              "England                          90\n",
              "Jamaica                          81\n",
              "South                            80\n",
              "China                            75\n",
              "Italy                            73\n",
              "Dominican-Republic               70\n",
              "Vietnam                          67\n",
              "Guatemala                        64\n",
              "Japan                            62\n",
              "Poland                           60\n",
              "Columbia                         59\n",
              "Taiwan                           51\n",
              "Haiti                            44\n",
              "Iran                             43\n",
              "Portugal                         37\n",
              "Nicaragua                        34\n",
              "Peru                             31\n",
              "France                           29\n",
              "Greece                           29\n",
              "Ecuador                          28\n",
              "Ireland                          24\n",
              "Hong                             20\n",
              "Cambodia                         19\n",
              "Trinadad&Tobago                  19\n",
              "Laos                             18\n",
              "Thailand                         18\n",
              "Yugoslavia                       16\n",
              "Outlying-US(Guam-USVI-etc)       14\n",
              "Honduras                         13\n",
              "Hungary                          13\n",
              "Scotland                         12\n",
              "Holand-Netherlands                1\n",
              "Name: native-country, dtype: int64"
            ]
          },
          "metadata": {
            "tags": []
          },
          "execution_count": 13
        }
      ]
    },
    {
      "cell_type": "code",
      "metadata": {
        "id": "YmRZnSLwPMTY",
        "colab": {
          "base_uri": "https://localhost:8080/",
          "height": 286
        },
        "outputId": "00d788f9-2de3-4c6e-ed26-25af44b22423"
      },
      "source": [
        "import seaborn as sns\n",
        "corr = df.corr()\n",
        "sns.heatmap(corr, \n",
        "            xticklabels=corr.columns.values,\n",
        "            yticklabels=corr.columns.values) #dla wartosci liczbowych \n",
        "\n",
        "\n"
      ],
      "execution_count": null,
      "outputs": [
        {
          "output_type": "execute_result",
          "data": {
            "text/plain": [
              "<matplotlib.axes._subplots.AxesSubplot at 0x7ff13f199b70>"
            ]
          },
          "metadata": {
            "tags": []
          },
          "execution_count": 9
        },
        {
          "output_type": "display_data",
          "data": {
            "image/png": "[encoded data removed]",
            "text/plain": [
              "<Figure size 432x288 with 2 Axes>"
            ]
          },
          "metadata": {
            "tags": [],
            "needs_background": "light"
          }
        }
      ]
    },
    {
      "cell_type": "code",
      "metadata": {
        "id": "M8GFOBI4PMTk",
        "colab": {
          "base_uri": "https://localhost:8080/",
          "height": 105
        },
        "outputId": "6dcc20dd-e350-4472-f76d-ad99e9a74b9f"
      },
      "source": [
        "cmap = cmap=sns.diverging_palette(5, 250, as_cmap=True)\n",
        "\n",
        "def magnify():\n",
        "    return [dict(selector=\"th\",\n",
        "                 props=[(\"font-size\", \"7pt\")]),\n",
        "            dict(selector=\"td\",\n",
        "                 props=[('padding', \"0em 0em\")]),\n",
        "            dict(selector=\"th:hover\",\n",
        "                 props=[(\"font-size\", \"12pt\")]),\n",
        "            dict(selector=\"tr:hover td:hover\",\n",
        "                 props=[('max-width', '200px'),\n",
        "                        ('font-size', '12pt')])\n",
        "]\n",
        "\n",
        "corr.style.background_gradient(cmap, axis=1)\\\n",
        "    .set_properties(**{'max-width': '80px', 'font-size': '10pt'})\\\n",
        "    .set_caption(\"Hover to magify\")\\\n",
        "    .set_precision(2)\\\n",
        "    .set_table_styles(magnify())"
      ],
      "execution_count": null,
      "outputs": [
        {
          "output_type": "execute_result",
          "data": {
            "text/html": [
              "<style  type=\"text/css\" >\n",
              "    #T_a5001f1c_2eea_11eb_88e6_0242ac1c0002 th {\n",
              "          font-size: 7pt;\n",
              "    }    #T_a5001f1c_2eea_11eb_88e6_0242ac1c0002 td {\n",
              "          padding: 0em 0em;\n",
              "    }    #T_a5001f1c_2eea_11eb_88e6_0242ac1c0002 th:hover {\n",
              "          font-size: 12pt;\n",
              "    }    #T_a5001f1c_2eea_11eb_88e6_0242ac1c0002 tr:hover td:hover {\n",
              "          max-width: 200px;\n",
              "          font-size: 12pt;\n",
              "    }#T_a5001f1c_2eea_11eb_88e6_0242ac1c0002row0_col0,#T_a5001f1c_2eea_11eb_88e6_0242ac1c0002row1_col1,#T_a5001f1c_2eea_11eb_88e6_0242ac1c0002row2_col2{\n",
              "            background-color:  #4479bb;\n",
              "            color:  #000000;\n",
              "            max-width:  80px;\n",
              "            font-size:  10pt;\n",
              "        }#T_a5001f1c_2eea_11eb_88e6_0242ac1c0002row0_col1,#T_a5001f1c_2eea_11eb_88e6_0242ac1c0002row1_col0,#T_a5001f1c_2eea_11eb_88e6_0242ac1c0002row2_col0{\n",
              "            background-color:  #d73c5b;\n",
              "            color:  #f1f1f1;\n",
              "            max-width:  80px;\n",
              "            font-size:  10pt;\n",
              "        }#T_a5001f1c_2eea_11eb_88e6_0242ac1c0002row0_col2{\n",
              "            background-color:  #d94764;\n",
              "            color:  #f1f1f1;\n",
              "            max-width:  80px;\n",
              "            font-size:  10pt;\n",
              "        }#T_a5001f1c_2eea_11eb_88e6_0242ac1c0002row1_col2{\n",
              "            background-color:  #dd657d;\n",
              "            color:  #000000;\n",
              "            max-width:  80px;\n",
              "            font-size:  10pt;\n",
              "        }#T_a5001f1c_2eea_11eb_88e6_0242ac1c0002row2_col1{\n",
              "            background-color:  #dc5973;\n",
              "            color:  #000000;\n",
              "            max-width:  80px;\n",
              "            font-size:  10pt;\n",
              "        }</style><table id=\"T_a5001f1c_2eea_11eb_88e6_0242ac1c0002\" ><caption>Hover to magify</caption><thead>    <tr>        <th class=\"blank level0\" ></th>        <th class=\"col_heading level0 col0\" >age</th>        <th class=\"col_heading level0 col1\" >education-num</th>        <th class=\"col_heading level0 col2\" >hours-per-week</th>    </tr></thead><tbody>\n",
              "                <tr>\n",
              "                        <th id=\"T_a5001f1c_2eea_11eb_88e6_0242ac1c0002level0_row0\" class=\"row_heading level0 row0\" >age</th>\n",
              "                        <td id=\"T_a5001f1c_2eea_11eb_88e6_0242ac1c0002row0_col0\" class=\"data row0 col0\" >1.00</td>\n",
              "                        <td id=\"T_a5001f1c_2eea_11eb_88e6_0242ac1c0002row0_col1\" class=\"data row0 col1\" >0.04</td>\n",
              "                        <td id=\"T_a5001f1c_2eea_11eb_88e6_0242ac1c0002row0_col2\" class=\"data row0 col2\" >0.07</td>\n",
              "            </tr>\n",
              "            <tr>\n",
              "                        <th id=\"T_a5001f1c_2eea_11eb_88e6_0242ac1c0002level0_row1\" class=\"row_heading level0 row1\" >education-num</th>\n",
              "                        <td id=\"T_a5001f1c_2eea_11eb_88e6_0242ac1c0002row1_col0\" class=\"data row1 col0\" >0.04</td>\n",
              "                        <td id=\"T_a5001f1c_2eea_11eb_88e6_0242ac1c0002row1_col1\" class=\"data row1 col1\" >1.00</td>\n",
              "                        <td id=\"T_a5001f1c_2eea_11eb_88e6_0242ac1c0002row1_col2\" class=\"data row1 col2\" >0.15</td>\n",
              "            </tr>\n",
              "            <tr>\n",
              "                        <th id=\"T_a5001f1c_2eea_11eb_88e6_0242ac1c0002level0_row2\" class=\"row_heading level0 row2\" >hours-per-week</th>\n",
              "                        <td id=\"T_a5001f1c_2eea_11eb_88e6_0242ac1c0002row2_col0\" class=\"data row2 col0\" >0.07</td>\n",
              "                        <td id=\"T_a5001f1c_2eea_11eb_88e6_0242ac1c0002row2_col1\" class=\"data row2 col1\" >0.15</td>\n",
              "                        <td id=\"T_a5001f1c_2eea_11eb_88e6_0242ac1c0002row2_col2\" class=\"data row2 col2\" >1.00</td>\n",
              "            </tr>\n",
              "    </tbody></table>"
            ],
            "text/plain": [
              "<pandas.io.formats.style.Styler at 0x7ff13f0cb6d8>"
            ]
          },
          "metadata": {
            "tags": []
          },
          "execution_count": 10
        }
      ]
    },
    {
      "cell_type": "markdown",
      "metadata": {
        "id": "HFviJ7nSVKsj"
      },
      "source": [
        ""
      ]
    },
    {
      "cell_type": "markdown",
      "metadata": {
        "id": "1aGvGYywQ2h9"
      },
      "source": [
        ""
      ]
    },
    {
      "cell_type": "code",
      "metadata": {
        "id": "7oG4jc3EPMTt",
        "colab": {
          "base_uri": "https://localhost:8080/"
        },
        "outputId": "55b943ff-4f7e-43bd-82ac-1754b0a2d700"
      },
      "source": [
        "df = pd.get_dummies(df) \n",
        "df.head()\n",
        "df[df.columns].sum(axis=0) #shape (32561, 107)"
      ],
      "execution_count": null,
      "outputs": [
        {
          "output_type": "execute_result",
          "data": {
            "text/plain": [
              "age                             1256257\n",
              "education-num                    328237\n",
              "hours-per-week                  1316684\n",
              "workclass_0                        1857\n",
              "workclass_Federal-gov               960\n",
              "                                 ...   \n",
              "native-country_United-States      29170\n",
              "native-country_Vietnam               67\n",
              "native-country_Yugoslavia            16\n",
              "income_<=50K                      24720\n",
              "income_>50K                        7841\n",
              "Length: 105, dtype: int64"
            ]
          },
          "metadata": {
            "tags": []
          },
          "execution_count": 13
        }
      ]
    },
    {
      "cell_type": "code",
      "metadata": {
        "id": "VVmb3fv2PMT8",
        "colab": {
          "base_uri": "https://localhost:8080/",
          "height": 283
        },
        "outputId": "7e4f0064-30e1-4af7-d00e-ee8e81516e36"
      },
      "source": [
        "df.plot()"
      ],
      "execution_count": null,
      "outputs": [
        {
          "output_type": "execute_result",
          "data": {
            "text/plain": [
              "<matplotlib.axes._subplots.AxesSubplot at 0x7fd428794c18>"
            ]
          },
          "metadata": {
            "tags": []
          },
          "execution_count": 175
        },
        {
          "output_type": "display_data",
          "data": {
            "image/png": "[encoded data removed]",
            "text/plain": [
              "<Figure size 432x288 with 1 Axes>"
            ]
          },
          "metadata": {
            "tags": [],
            "needs_background": "light"
          }
        }
      ]
    },
    {
      "cell_type": "markdown",
      "metadata": {
        "id": "ho4B1AO7PMUE"
      },
      "source": [
        "## Task 2 - Preparing data\n",
        "- Select features `X` and labels `y`. Make sure that your selection makes sense.\n",
        "- Change the data into a numerical form to let your algorithm (logistic regression) deal with them\n",
        "- Perform One-hot encoding if necessary\n",
        "- Split your data into train and test subsets. Make sure that your split is reasonable. Use `stratify` if you consider it helpful."
      ]
    },
    {
      "cell_type": "code",
      "metadata": {
        "id": "uhC_0M-uPMUF",
        "colab": {
          "base_uri": "https://localhost:8080/",
          "height": 419
        },
        "outputId": "194f0754-eac3-465a-ddb1-34a359363aa8"
      },
      "source": [
        "x = df[['age', 'workclass', 'education', 'education-num', 'marital-status',\n",
        "       'occupation', 'relationship', 'race', 'sex', 'hours-per-week',\n",
        "       'native-country']]  \n",
        "      \n",
        "x.head(100)\n",
        "  "
      ],
      "execution_count": null,
      "outputs": [
        {
          "output_type": "execute_result",
          "data": {
            "text/html": [
              "<div>\n",
              "<style scoped>\n",
              "    .dataframe tbody tr th:only-of-type {\n",
              "        vertical-align: middle;\n",
              "    }\n",
              "\n",
              "    .dataframe tbody tr th {\n",
              "        vertical-align: top;\n",
              "    }\n",
              "\n",
              "    .dataframe thead th {\n",
              "        text-align: right;\n",
              "    }\n",
              "</style>\n",
              "<table border=\"1\" class=\"dataframe\">\n",
              "  <thead>\n",
              "    <tr style=\"text-align: right;\">\n",
              "      <th></th>\n",
              "      <th>age</th>\n",
              "      <th>workclass</th>\n",
              "      <th>education</th>\n",
              "      <th>education-num</th>\n",
              "      <th>marital-status</th>\n",
              "      <th>occupation</th>\n",
              "      <th>relationship</th>\n",
              "      <th>race</th>\n",
              "      <th>sex</th>\n",
              "      <th>hours-per-week</th>\n",
              "      <th>native-country</th>\n",
              "    </tr>\n",
              "  </thead>\n",
              "  <tbody>\n",
              "    <tr>\n",
              "      <th>0</th>\n",
              "      <td>39</td>\n",
              "      <td>State-gov</td>\n",
              "      <td>Bachelors</td>\n",
              "      <td>13</td>\n",
              "      <td>Never-married</td>\n",
              "      <td>Adm-clerical</td>\n",
              "      <td>Not-in-family</td>\n",
              "      <td>White</td>\n",
              "      <td>Male</td>\n",
              "      <td>40</td>\n",
              "      <td>United-States</td>\n",
              "    </tr>\n",
              "    <tr>\n",
              "      <th>1</th>\n",
              "      <td>50</td>\n",
              "      <td>Self-emp-not-inc</td>\n",
              "      <td>Bachelors</td>\n",
              "      <td>13</td>\n",
              "      <td>Married-civ-spouse</td>\n",
              "      <td>Exec-managerial</td>\n",
              "      <td>Husband</td>\n",
              "      <td>White</td>\n",
              "      <td>Male</td>\n",
              "      <td>13</td>\n",
              "      <td>United-States</td>\n",
              "    </tr>\n",
              "    <tr>\n",
              "      <th>2</th>\n",
              "      <td>38</td>\n",
              "      <td>Private</td>\n",
              "      <td>HS-grad</td>\n",
              "      <td>9</td>\n",
              "      <td>Divorced</td>\n",
              "      <td>Handlers-cleaners</td>\n",
              "      <td>Not-in-family</td>\n",
              "      <td>White</td>\n",
              "      <td>Male</td>\n",
              "      <td>40</td>\n",
              "      <td>United-States</td>\n",
              "    </tr>\n",
              "    <tr>\n",
              "      <th>3</th>\n",
              "      <td>53</td>\n",
              "      <td>Private</td>\n",
              "      <td>11th</td>\n",
              "      <td>7</td>\n",
              "      <td>Married-civ-spouse</td>\n",
              "      <td>Handlers-cleaners</td>\n",
              "      <td>Husband</td>\n",
              "      <td>Black</td>\n",
              "      <td>Male</td>\n",
              "      <td>40</td>\n",
              "      <td>United-States</td>\n",
              "    </tr>\n",
              "    <tr>\n",
              "      <th>4</th>\n",
              "      <td>28</td>\n",
              "      <td>Private</td>\n",
              "      <td>Bachelors</td>\n",
              "      <td>13</td>\n",
              "      <td>Married-civ-spouse</td>\n",
              "      <td>Prof-specialty</td>\n",
              "      <td>Wife</td>\n",
              "      <td>Black</td>\n",
              "      <td>Female</td>\n",
              "      <td>40</td>\n",
              "      <td>Cuba</td>\n",
              "    </tr>\n",
              "    <tr>\n",
              "      <th>...</th>\n",
              "      <td>...</td>\n",
              "      <td>...</td>\n",
              "      <td>...</td>\n",
              "      <td>...</td>\n",
              "      <td>...</td>\n",
              "      <td>...</td>\n",
              "      <td>...</td>\n",
              "      <td>...</td>\n",
              "      <td>...</td>\n",
              "      <td>...</td>\n",
              "      <td>...</td>\n",
              "    </tr>\n",
              "    <tr>\n",
              "      <th>95</th>\n",
              "      <td>29</td>\n",
              "      <td>Local-gov</td>\n",
              "      <td>Some-college</td>\n",
              "      <td>10</td>\n",
              "      <td>Never-married</td>\n",
              "      <td>Handlers-cleaners</td>\n",
              "      <td>Not-in-family</td>\n",
              "      <td>White</td>\n",
              "      <td>Male</td>\n",
              "      <td>50</td>\n",
              "      <td>United-States</td>\n",
              "    </tr>\n",
              "    <tr>\n",
              "      <th>96</th>\n",
              "      <td>48</td>\n",
              "      <td>Self-emp-not-inc</td>\n",
              "      <td>Doctorate</td>\n",
              "      <td>16</td>\n",
              "      <td>Married-civ-spouse</td>\n",
              "      <td>Prof-specialty</td>\n",
              "      <td>Husband</td>\n",
              "      <td>White</td>\n",
              "      <td>Male</td>\n",
              "      <td>60</td>\n",
              "      <td>United-States</td>\n",
              "    </tr>\n",
              "    <tr>\n",
              "      <th>97</th>\n",
              "      <td>37</td>\n",
              "      <td>Private</td>\n",
              "      <td>Some-college</td>\n",
              "      <td>10</td>\n",
              "      <td>Married-civ-spouse</td>\n",
              "      <td>Sales</td>\n",
              "      <td>Husband</td>\n",
              "      <td>White</td>\n",
              "      <td>Male</td>\n",
              "      <td>48</td>\n",
              "      <td>United-States</td>\n",
              "    </tr>\n",
              "    <tr>\n",
              "      <th>98</th>\n",
              "      <td>48</td>\n",
              "      <td>Private</td>\n",
              "      <td>Assoc-acdm</td>\n",
              "      <td>12</td>\n",
              "      <td>Divorced</td>\n",
              "      <td>Exec-managerial</td>\n",
              "      <td>Unmarried</td>\n",
              "      <td>White</td>\n",
              "      <td>Female</td>\n",
              "      <td>40</td>\n",
              "      <td>England</td>\n",
              "    </tr>\n",
              "    <tr>\n",
              "      <th>99</th>\n",
              "      <td>32</td>\n",
              "      <td>Federal-gov</td>\n",
              "      <td>HS-grad</td>\n",
              "      <td>9</td>\n",
              "      <td>Never-married</td>\n",
              "      <td>Other-service</td>\n",
              "      <td>Own-child</td>\n",
              "      <td>Black</td>\n",
              "      <td>Male</td>\n",
              "      <td>40</td>\n",
              "      <td>United-States</td>\n",
              "    </tr>\n",
              "  </tbody>\n",
              "</table>\n",
              "<p>100 rows × 11 columns</p>\n",
              "</div>"
            ],
            "text/plain": [
              "    age         workclass     education  ...     sex hours-per-week native-country\n",
              "0    39         State-gov     Bachelors  ...    Male             40  United-States\n",
              "1    50  Self-emp-not-inc     Bachelors  ...    Male             13  United-States\n",
              "2    38           Private       HS-grad  ...    Male             40  United-States\n",
              "3    53           Private          11th  ...    Male             40  United-States\n",
              "4    28           Private     Bachelors  ...  Female             40           Cuba\n",
              "..  ...               ...           ...  ...     ...            ...            ...\n",
              "95   29         Local-gov  Some-college  ...    Male             50  United-States\n",
              "96   48  Self-emp-not-inc     Doctorate  ...    Male             60  United-States\n",
              "97   37           Private  Some-college  ...    Male             48  United-States\n",
              "98   48           Private    Assoc-acdm  ...  Female             40        England\n",
              "99   32       Federal-gov       HS-grad  ...    Male             40  United-States\n",
              "\n",
              "[100 rows x 11 columns]"
            ]
          },
          "metadata": {
            "tags": []
          },
          "execution_count": 11
        }
      ]
    },
    {
      "cell_type": "code",
      "metadata": {
        "id": "ST7_m0zD4asK"
      },
      "source": [
        ""
      ],
      "execution_count": null,
      "outputs": []
    },
    {
      "cell_type": "code",
      "metadata": {
        "id": "lbiEKo9VPMUN",
        "colab": {
          "base_uri": "https://localhost:8080/"
        },
        "outputId": "faab07c0-a65d-41c5-b2ce-2021574a96c0"
      },
      "source": [
        "y=df['income']\n",
        "y.head()"
      ],
      "execution_count": null,
      "outputs": [
        {
          "output_type": "execute_result",
          "data": {
            "text/plain": [
              "0    <=50K\n",
              "1    <=50K\n",
              "2    <=50K\n",
              "3    <=50K\n",
              "4    <=50K\n",
              "Name: income, dtype: object"
            ]
          },
          "metadata": {
            "tags": []
          },
          "execution_count": 12
        }
      ]
    },
    {
      "cell_type": "code",
      "metadata": {
        "id": "yGZHEofhPMUb"
      },
      "source": [
        "#One-hot encoding w mojej cenie ułatwiające nadanie rangi danym wartoscia tekstowym\n",
        "One-hot encoding"
      ],
      "execution_count": null,
      "outputs": []
    },
    {
      "cell_type": "code",
      "metadata": {
        "id": "KjLBnQ6gPMUj",
        "colab": {
          "base_uri": "https://localhost:8080/",
          "height": 204
        },
        "outputId": "ab998d2c-e3a7-4c3f-9f1a-0cef0750ab1a"
      },
      "source": [
        "x = pd.get_dummies(x)\n",
        "y = pd.get_dummies(y)\n",
        "y=y.drop(columns=['>50K'])# z powodu bledu przy inpucie modelu plus nadmiar danych\n",
        "####y=y.add(pd.Series(np.ones(len(y)))) #poniewaz mape osiaga inf dla wartosci realnych zero, przesuwamy prawdopodobienstwo robocze miedzy 2 a 1\n",
        "#y.insert(1,column='B', value=pd.Series(np.ones(len(y))))\n",
        "#y['<=50K']=y['<=50K']+y['B']\n",
        "###dla linear....\n",
        "#y=y.drop(columns=['B'])\n",
        "x.head()\n",
        "y.head() "
      ],
      "execution_count": null,
      "outputs": [
        {
          "output_type": "execute_result",
          "data": {
            "text/html": [
              "<div>\n",
              "<style scoped>\n",
              "    .dataframe tbody tr th:only-of-type {\n",
              "        vertical-align: middle;\n",
              "    }\n",
              "\n",
              "    .dataframe tbody tr th {\n",
              "        vertical-align: top;\n",
              "    }\n",
              "\n",
              "    .dataframe thead th {\n",
              "        text-align: right;\n",
              "    }\n",
              "</style>\n",
              "<table border=\"1\" class=\"dataframe\">\n",
              "  <thead>\n",
              "    <tr style=\"text-align: right;\">\n",
              "      <th></th>\n",
              "      <th>&lt;=50K</th>\n",
              "    </tr>\n",
              "  </thead>\n",
              "  <tbody>\n",
              "    <tr>\n",
              "      <th>0</th>\n",
              "      <td>1</td>\n",
              "    </tr>\n",
              "    <tr>\n",
              "      <th>1</th>\n",
              "      <td>1</td>\n",
              "    </tr>\n",
              "    <tr>\n",
              "      <th>2</th>\n",
              "      <td>1</td>\n",
              "    </tr>\n",
              "    <tr>\n",
              "      <th>3</th>\n",
              "      <td>1</td>\n",
              "    </tr>\n",
              "    <tr>\n",
              "      <th>4</th>\n",
              "      <td>1</td>\n",
              "    </tr>\n",
              "  </tbody>\n",
              "</table>\n",
              "</div>"
            ],
            "text/plain": [
              "   <=50K\n",
              "0      1\n",
              "1      1\n",
              "2      1\n",
              "3      1\n",
              "4      1"
            ]
          },
          "metadata": {
            "tags": []
          },
          "execution_count": 14
        }
      ]
    },
    {
      "cell_type": "code",
      "metadata": {
        "id": "n-ncRSjzPMVA",
        "colab": {
          "base_uri": "https://localhost:8080/"
        },
        "outputId": "5e9a6235-8a08-4c0e-87c2-26ac92b552db"
      },
      "source": [
        "from sklearn.model_selection import train_test_split\n",
        "  \n",
        "X_train, X_test, y_train, y_test = train_test_split(\n",
        "   x, y, test_size=0.3,stratify=y, random_state=1 ) #stratiii\n",
        "print(\"X_train\",X_train.shape)\n",
        "print(\"X_test\",X_test.shape)\n",
        "print(\"Y_train\",y_train.shape)\n",
        "print(\"Y_test\",y_test.shape)"
      ],
      "execution_count": null,
      "outputs": [
        {
          "output_type": "stream",
          "text": [
            "X_train (22792, 103)\n",
            "X_test (9769, 103)\n",
            "Y_train (22792, 1)\n",
            "Y_test (9769, 1)\n"
          ],
          "name": "stdout"
        }
      ]
    },
    {
      "cell_type": "code",
      "metadata": {
        "id": "JSYtYjyVPMVI"
      },
      "source": [
        ""
      ],
      "execution_count": null,
      "outputs": []
    },
    {
      "cell_type": "code",
      "metadata": {
        "id": "P0l3VGVmPMVP"
      },
      "source": [
        ""
      ],
      "execution_count": null,
      "outputs": []
    },
    {
      "cell_type": "code",
      "metadata": {
        "id": "6dbZ7orRPMVc"
      },
      "source": [
        ""
      ],
      "execution_count": null,
      "outputs": []
    },
    {
      "cell_type": "code",
      "metadata": {
        "id": "h1N7TmNgPMVg"
      },
      "source": [
        ""
      ],
      "execution_count": null,
      "outputs": []
    },
    {
      "cell_type": "markdown",
      "metadata": {
        "id": "iPrHvYwYPMVm"
      },
      "source": [
        "## Task 4 - Logistic Regression\n",
        "Train and test a logistic regression model. If you want to get a maximum score you must be sure that your model:\n",
        "- Do not overfit\n",
        "- Do not underfit\n",
        "- Achieves at least 80% accuracy on the test subset."
      ]
    },
    {
      "cell_type": "code",
      "metadata": {
        "id": "DzEUjE6OyJHJ"
      },
      "source": [
        "from sklearn.linear_model import LogisticRegression\n",
        "\n",
        "model = LogisticRegression(max_iter=100000)\n",
        "model.fit(X_train, y_train)"
      ],
      "execution_count": null,
      "outputs": []
    },
    {
      "cell_type": "code",
      "metadata": {
        "id": "MWUOeg1i31TM",
        "colab": {
          "base_uri": "https://localhost:8080/"
        },
        "outputId": "3f33199c-df06-43f8-d0b8-947b0145b67a"
      },
      "source": [
        "print (\"Train set accuracy:\", model.score(X_train, y_train))\n",
        "print (\"Test set accuracy:\", model.score(X_test, y_test))"
      ],
      "execution_count": null,
      "outputs": [
        {
          "output_type": "stream",
          "text": [
            "Train set accuracy: 0.83489820989821\n",
            "Test set accuracy: 0.8373426143924659\n"
          ],
          "name": "stdout"
        }
      ]
    },
    {
      "cell_type": "markdown",
      "metadata": {
        "id": "ZKcCLB4jPMWH"
      },
      "source": [
        "## Task 5 - Precision and recall\n",
        "- Compute precision and recall for your model, for both, train and test subsets.\n",
        "- Make sure that you understand these metrics, you may be asked to explain the meaning of it."
      ]
    },
    {
      "cell_type": "code",
      "metadata": {
        "id": "fbwfSr1XPMWN",
        "colab": {
          "base_uri": "https://localhost:8080/"
        },
        "outputId": "f56f9178-6a15-4fd0-af16-952725b3c01a"
      },
      "source": [
        "from sklearn.metrics import precision_score\n",
        "print(precision_score(y_test, model.predict(X_test)))\n",
        "print(precision_score(y_train, model.predict(X_train)))"
      ],
      "execution_count": null,
      "outputs": [
        {
          "output_type": "stream",
          "text": [
            "0.8671875\n",
            "0.8684153243360906\n"
          ],
          "name": "stdout"
        }
      ]
    },
    {
      "cell_type": "code",
      "metadata": {
        "id": "LY2te14zPMWS",
        "colab": {
          "base_uri": "https://localhost:8080/"
        },
        "outputId": "ef6d9777-0e05-4738-92da-73e1971f5e17"
      },
      "source": [
        "from sklearn.metrics import recall_score\n",
        "print(recall_score(y_test, model.predict(X_test)))\n",
        "print(recall_score(y_train, model.predict(X_train)))"
      ],
      "execution_count": null,
      "outputs": [
        {
          "output_type": "stream",
          "text": [
            "0.927868410408521\n",
            "0.9222678148297982\n"
          ],
          "name": "stdout"
        }
      ]
    },
    {
      "cell_type": "code",
      "metadata": {
        "id": "wLz1k47hPMWg"
      },
      "source": [
        ""
      ],
      "execution_count": null,
      "outputs": []
    },
    {
      "cell_type": "markdown",
      "metadata": {
        "id": "fbMz6qDEPMWm"
      },
      "source": [
        "## Task 6: Applying the model\n",
        "Use your model to check if you will earn above 50,000$ per year. Check both the response from the model (true/false) and the probability that the response will be true. Check using the data about yourself:\n",
        "- right now\n",
        "- two years from now\n",
        "- ten years from now"
      ]
    },
    {
      "cell_type": "code",
      "metadata": {
        "id": "eaWUTeMDPMWr",
        "colab": {
          "base_uri": "https://localhost:8080/"
        },
        "outputId": "973ef949-6c46-4e84-919a-74931923be1d"
      },
      "source": [
        "x_predicted_by_me= {'age': [21,23,31], 'workclass': ['Private','Private','Private'], 'education': ['Bachelors','Masters','Masters'], 'education-num': [13,13,13], 'marital-status': ['Never-married','Never-married','Married-civ-spouse'],\n",
        "       'occupation': ['Tech-support','Tech-support','Prof-specialty'], 'relationship': ['Unmarried','Unmarried','Husband'], 'race': ['White','White','White'], 'sex': ['Male','Male','Male'], 'hours-per-week': [30,60,40],\n",
        "       'native-country': ['Poland','Poland','Poland']} \n",
        "\n",
        "input_x = pd.DataFrame(data=x_predicted_by_me)\n",
        "input_x=pd.get_dummies(input_x)\n",
        "input_x.head()\n",
        "\n",
        "x_pom=X_train.head(1)\n",
        "#x_pom.head()\n",
        "x_pom=x_pom.append(input_x)\n",
        "x_pom=x_pom.drop([32050])\n",
        "x_pom=x_pom.fillna(0)\n",
        "x_pom.head()\n",
        "\n",
        "print(\"[ponizej50k]   (0)Now, (1)2y,  (2)10y:  \",model.predict(x_pom))\n"
      ],
      "execution_count": null,
      "outputs": [
        {
          "output_type": "stream",
          "text": [
            "[ponizej50k]   (0)Now, (1)2y,  (2)10y:   [1 1 0]\n"
          ],
          "name": "stdout"
        }
      ]
    }
  ]
}